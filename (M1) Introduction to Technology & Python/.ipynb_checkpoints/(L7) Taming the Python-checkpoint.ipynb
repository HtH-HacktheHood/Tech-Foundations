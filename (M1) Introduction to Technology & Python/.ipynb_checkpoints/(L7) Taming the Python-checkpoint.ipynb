{
 "cells": [
  {
   "cell_type": "markdown",
   "id": "44b59470",
   "metadata": {
    "tags": []
   },
   "source": [
    "# Embracing Technical Benevolence\n",
    "\n",
    "We have been talking a lot about how to make sure we can be mindful of our own personalities as well as the traits of others when we are creating technology. Now let's talk about what technologies for social impact may look like.\n",
    "\n",
    "**Sociotechnical:** \"Technical Benevolence?\" -- **[Part One](https://docs.google.com/presentation/d/1eUL4mgIIpinesV8FgJju-pwrU9dN4mgqTx6_WLCgU8w/edit?usp=sharing)**\n",
    "\n",
    "When we are trying to build technologies to have an impact on the society we live in, we have to be sure that we fully understand the issue we are trying to tackle. Otherwise, our good intentions could actually be received poorly by other people and this could be offensive or harmful to users of your technology.\n",
    "\n",
    "# Are you afraid of snakes?\n",
    "\n",
    "If you're confused about what **Python** is exactly or why it's so well liked by developers, here's the answer: Python is a **multipurpose** programming language. It can be useful anywhere that uses data, mathematical computation, or lines of code. This versatility is important because while many languages are tailored to one specific thing (i.e. Java is used exclusively for web development), Python can be used across many areas of the tech industry, including things like web development, game development and data science. In fact, many of the companies you have grown fond of over the years probably use Python at some point in their development process. Here are some of the major companies currently using Python:\n",
    "\n",
    "<img alt=\"Companies\" src=\"../images/python-users.jpeg\" img>\n",
    "\n",
    "As you can see, Python is everywhere. There is nothing you can’t do with it. Here's a more comprehensive list of the things Python is capable of:\n",
    "\n",
    "* Scripting – Python is great for server-side and other scripting\n",
    "* Data Science\n",
    "* Machine Learning\n",
    "* Artificial Intelligence\n",
    "* Game development\n",
    "* Web development\n",
    "* Computer Vision (CV)/ Image manipulation\n",
    "* Robotics\n",
    "* Web Scraping\n",
    "* Network Programming\n",
    "* Numeric and Scientific Computing\n",
    "* Enterprise applications\n",
    "\n",
    "Also, because Python is based in an easy to read English syntax has a ton free available resources, Python is conveted as one of the easier languages for people to learn and read. \n",
    "\n",
    "**FUN FACT**: The namesake \"Python\" isn't an abbreviation or acronym. The creator of Python, Guido van Rossum, is just a really avid Monty Python fan. Monty Python is the name of a British comedy group that emerged during the 1970s. Python was created in December of 1989\n",
    "\n",
    "# Snake-like Features\n",
    "\n",
    "<img alt=\"Companies\" src=\"../images/python-feats.jpeg\" img>\n",
    "\n",
    "**1. User-Friendly** <br>\n",
    "Python’s syntax is simple. It’s much like writing in English, and this is why it is easy to read (and understand) and write code in Python. Python code is concise so you can get things done in less lines of code.\n",
    "\n",
    "This is Hello, world! in Python:"
   ]
  },
  {
   "cell_type": "code",
   "execution_count": 1,
   "id": "05970f6a",
   "metadata": {},
   "outputs": [
    {
     "name": "stdout",
     "output_type": "stream",
     "text": [
      "Hello, world!\n"
     ]
    }
   ],
   "source": [
    "print(\"Hello, world!\")"
   ]
  },
  {
   "cell_type": "markdown",
   "id": "3b7be215",
   "metadata": {},
   "source": [
    "**2. Open-Source and Community**<br>\n",
    "Python is open-source and its source code is available to the public for free. One great thing about Python is its large community is very supportive and also always trying to improve. If you run into an issue while coding in Python, remember that StackOverflow has over 1,247,320 questions for Python.\n",
    "\n",
    "**3. Prototyping**<br>\n",
    "Because of Python’s simple syntax and readability, developers are more productive and can perform fast prototyping. This gives us the proof-of-concept and project requirements and also tells us about the team’s capabilities. It also gives us the **Minimum Viable Product (MVP)**.\n",
    "\n",
    "**4. Expressive**<br>\n",
    "Python is expressive and lets us focus on what we want to do instead of worrying about syntax. What’s expressive power? Consider two languages A and B. If all programs in A can be written in B using local transformations, but not all of those in B can be written in A, then B is more expressive than A.\n",
    "\n",
    "**5. Portable**<br>\n",
    "Code you write on Windows can be transferred to Mac as it is and the other way around. When you write Python code for one machine, you don’t need to make changes to it to run it elsewhere. This is excluding any system-dependent features.\n",
    "\n",
    "**6. High-level**<br>\n",
    "As we said above, Python is a high-level language. For programmers, there is no need to remember system architecture or manage memory. Python is also programmer-friendly.\n",
    "\n",
    "**7. Interpreted**<br>\n",
    "While other languages like Java and C++ are compiled, Python is interpreted. Internally, the source code converts to bytecode. Python code executes line by line and so is easier to debug. Interpreting does make it slower compared to Java, but the difference is not much when the code is huge.\n",
    "\n",
    "**8. Object-Oriented**<br>\n",
    "Python is an object-oriented language and also supports functional programming. It can model the real world. Python supports both object-oriented programming and procedure-oriented programming. And it also supports multiple inheritances.\n",
    "\n",
    "**9. Dynamic Typing**<br>\n",
    "As a programmer, you do not need to declare a data type for a value in advance- this is decided at runtime. This can introduce some overhead at runtime. Python follows the principle of duck typing: “If it looks like a duck, swims like a duck, and quacks like a duck, then it probably is a duck”.\n",
    "\n",
    "**10. Extensible and Embeddable**<br>\n",
    "Python is both – extensible and embeddable. You can borrow code from other languages (like C++) to extend Python, and also embed it in code that is in other languages to allow scripting.\n",
    "\n",
    "**11. Large Standard Library**<br>\n",
    "One of Python’s best features is its large standard library. Since Python focusses on letting you focus on what’s important, it has thousands of libraries so you don’t have to reinvent the wheel. These are for everything from regular expressions, documentation generation, image manipulation, unit testing, web browsers, databases, CGI, and email.\n",
    "\n",
    "# Becoming the Herpetologist\n",
    "\n",
    "**[Researching Python!](https://docs.google.com/document/d/1a8vpHLyEJk0CLrgDk-6LR9AzSosWdstp4oP9koM9WCU/edit?usp=sharing)**"
   ]
  }
 ],
 "metadata": {
  "kernelspec": {
   "display_name": "Python 3 (ipykernel)",
   "language": "python",
   "name": "python3"
  },
  "language_info": {
   "codemirror_mode": {
    "name": "ipython",
    "version": 3
   },
   "file_extension": ".py",
   "mimetype": "text/x-python",
   "name": "python",
   "nbconvert_exporter": "python",
   "pygments_lexer": "ipython3",
   "version": "3.9.6"
  }
 },
 "nbformat": 4,
 "nbformat_minor": 5
}
