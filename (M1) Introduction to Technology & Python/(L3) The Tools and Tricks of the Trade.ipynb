{
 "cells": [
  {
   "cell_type": "markdown",
   "id": "e8cac8dc",
   "metadata": {},
   "source": [
    "# And Now, The Adventure Begins!"
   ]
  },
  {
   "cell_type": "markdown",
   "id": "e89cd6a0",
   "metadata": {},
   "source": [
    "But first, let's take a closer look at our computers, how they operate, and how those operations influence our society.\n",
    "\n",
    "**Sociotechnical:** \"Rejecting the Binary\" -- **[Part One (Slides 1 - 11)](https://docs.google.com/presentation/d/1isk3YcrRCtAS_o2d3oYTikLBpbTxOFnhg9byAPl6IPQ/edit?usp=sharing)**"
   ]
  },
  {
   "cell_type": "markdown",
   "id": "d89cedd4",
   "metadata": {},
   "source": [
    "**Understanding your own identity while respecting and being considerate of others'** is essential to having a happy and fulfilling career (not just in the tech industry, but in any industry). When you are kind, respectful, and cooperative you can work together with some great people to create some really amazing things. Keep that in mind as you and your peers learn more about using the tools of software creation.\n",
    "\n",
    "Lastly, here's a question for you: **What are you most excited to learn during this program?**"
   ]
  },
  {
   "cell_type": "markdown",
   "id": "a651ea80",
   "metadata": {},
   "source": [
    "## Setting Up Your Work Environment"
   ]
  },
  {
   "cell_type": "markdown",
   "id": "4721870d",
   "metadata": {},
   "source": [
    "<img alt=\"Tools-Discussion\" src=\"../images/tools-discuss.png\" img>"
   ]
  },
  {
   "cell_type": "markdown",
   "id": "9ed9e611",
   "metadata": {},
   "source": [
    "Before you can begin your quest of understanding , there are a few tools that you will certainly need to prepare and become familiar with: \n",
    "- **Computer**\n",
    "- **Integrated Development Environment**\n",
    "- **Programming Language**\n",
    "- **Github**\n",
    "\n"
   ]
  },
  {
   "cell_type": "markdown",
   "id": "839c7af3",
   "metadata": {},
   "source": [
    "### Computers"
   ]
  },
  {
   "cell_type": "markdown",
   "id": "079abb89",
   "metadata": {},
   "source": [
    "Most people are probably a little confused by this being on the list. You would think that you are familiar with your computer already right? If you're anything like me you probably stream tv, music, or play video games on your computer. Not to mention, browsing the internet for various reasons. While this does count as being familiar with your device, we want you to be familiar with other facets of your computer. In fact, most people with a laptop don't normally use these things. So what sort of **things** are we talking about? Well there are three that can be really useful to a developer: **the terminal**, **the bash profile** and **keyboard shortcuts**. \n",
    "\n",
    "Terminals, also known as **command lines** or **consoles**, allow us to accomplish and automate tasks on a computer without the use of a graphical user interface. Using a terminal allows us to send simple text commands to our computer to do things like navigate through a directory or copy a file, and form the basis for many more complex automations and programming skills.\n",
    "\n",
    "To understand the bash_profile, we must first discuss **bash** and **shell**. Shell is the primary program that computers use to receive code (i.e. commands you put in the terminal) and return information produced by executing these commands (i.e. outputs you see in your terminal). Bash is just an updated version of shell thats allows for more efficiency when navigating the shell and executing commands. Now the bash_profile allows us to have more personalization and control over the commands and packages available on your system.\n",
    "\n",
    "Keyboard shortcuts are combinations of keys that can be pressed to activate specific functions. These are pretty common knowledge, but a lot of people do not really use them. They are extremely useful to developers because they can help save time when trying to close windows and other things.\n",
    "\n",
    "**Computers have a lot of functionality and terminology that many people are not super comfortable with when they are first starting out coding! If you sometimes need more support with navigating files, using keyboard shortcuts, terminology and slang etc. that is okay and normal, no one was born knowing these things. With practice you will level up!**"
   ]
  },
  {
   "cell_type": "markdown",
   "id": "fe31167f",
   "metadata": {},
   "source": [
    "### Integrated Development Environments"
   ]
  },
  {
   "cell_type": "markdown",
   "id": "8138c14b",
   "metadata": {},
   "source": [
    "An **IDE** is a software for building applications that combines common developer tools into a single **graphical user interface (GUI)**. An IDE typically consists of:\n",
    "\n",
    "1. **Source code editor**: A text editor that can assist in writing software code with features such as syntax highlighting with visual cues, providing language specific auto-completion, and checking for bugs as code is being written.\n",
    "\n",
    "2. **Local build automation**: Utilities that automate simple, repeatable tasks as part of creating a local build of the software for use by the developer, like compiling computer source code into binary code, packaging binary code, and running automated tests.\n",
    "\n",
    "3. **Debugger**: A program for testing other programs that can graphically display the location of a bug in the original code.\n",
    "\n",
    "In this program, we will be using the IDE called **[Visual Studio Code](https://code.visualstudio.com/)**. It comes with a lot of really nice features, like its own built in terminal!"
   ]
  },
  {
   "cell_type": "markdown",
   "id": "75d4abb1",
   "metadata": {},
   "source": [
    "### Programming Languages"
   ]
  },
  {
   "cell_type": "code",
   "execution_count": 1,
   "id": "f7c0b211",
   "metadata": {},
   "outputs": [
    {
     "data": {
      "text/html": [
       "\n",
       "        <iframe\n",
       "            width=\"400\"\n",
       "            height=\"300\"\n",
       "            src=\"https://www.youtube.com/embed/EGQh5SZctaE\"\n",
       "            frameborder=\"0\"\n",
       "            allowfullscreen\n",
       "        ></iframe>\n",
       "        "
      ],
      "text/plain": [
       "<IPython.lib.display.YouTubeVideo at 0x10ff45f40>"
      ]
     },
     "execution_count": 1,
     "metadata": {},
     "output_type": "execute_result"
    }
   ],
   "source": [
    "from IPython.display import YouTubeVideo\n",
    "YouTubeVideo('EGQh5SZctaE')"
   ]
  },
  {
   "cell_type": "markdown",
   "id": "aaeddc14",
   "metadata": {},
   "source": [
    "**[Codecademy: What is a programming language](https://www.youtube.com/watch?v=EGQh5SZctaE)**"
   ]
  },
  {
   "cell_type": "markdown",
   "id": "eb15e219",
   "metadata": {},
   "source": [
    "In this program, we will focus on learning the **[Python](https://www.python.org/)** language. Python is a very versatile language that is used in almost all areas of the tech industry (front-end, back-end, data science, etc ...). It is also a very easy language to pick up and learn."
   ]
  },
  {
   "cell_type": "markdown",
   "id": "95b4094a",
   "metadata": {},
   "source": [
    "### Github"
   ]
  },
  {
   "cell_type": "markdown",
   "id": "cc0da52e",
   "metadata": {},
   "source": [
    "At the heart of GitHub is Git, an open source project started by a Linux creator. Git is a version control system which manages and stores revisions of projects. Although it’s mostly used for code, Git could be used to manage any other type of file, such as Word documents or Final Cut projects. Think of it as a filing system for every draft of any sort of document.\n",
    "\n",
    "One of the things that made Git so popular was its distributed version control systems. If you want to make a change to a project you copy the whole repository to your own system. You make your changes on your local copy, then you send the changes to the central server to await approval. This encourages the sharing of more granular changes since you don’t have to connect to the server every time you make a change.\n",
    "\n",
    "GitHub is a Git repository hosting service, but it adds many of its own features. While Git is a command line tool, GitHub provides a Web-based graphical interface. It also provides access control and several collaboration features, such as a wikis and basic task management tools for every project.\n",
    "\n",
    "The flagship functionality of GitHub is “forking” – copying a repository from one user’s account to another. This enables you to take a project that you don’t have write access to and modify it under your own account. If you make changes you’d like to share, you can send a notification called a “pull request” to the original owner. That user can then, with a click of a button, merge the changes found in your repo with the original repo. These three features – fork, pull request and merge – are what make GitHub so powerful. "
   ]
  },
  {
   "cell_type": "markdown",
   "id": "33b596d9",
   "metadata": {},
   "source": [
    "# Finally! Let's get started adding some of these tools to our computers!"
   ]
  },
  {
   "cell_type": "markdown",
   "id": "d3c56197",
   "metadata": {},
   "source": [
    "**[Installation & Profile Creation](https://docs.google.com/document/d/1Sw7n3SOJSkdPxWY9t1MFErXaid6Dmo60eCke2KHiRME/edit?usp=sharing)**"
   ]
  }
 ],
 "metadata": {
  "kernelspec": {
   "display_name": "Python 3 (ipykernel)",
   "language": "python",
   "name": "python3"
  },
  "language_info": {
   "codemirror_mode": {
    "name": "ipython",
    "version": 3
   },
   "file_extension": ".py",
   "mimetype": "text/x-python",
   "name": "python",
   "nbconvert_exporter": "python",
   "pygments_lexer": "ipython3",
   "version": "3.9.6"
  }
 },
 "nbformat": 4,
 "nbformat_minor": 5
}
