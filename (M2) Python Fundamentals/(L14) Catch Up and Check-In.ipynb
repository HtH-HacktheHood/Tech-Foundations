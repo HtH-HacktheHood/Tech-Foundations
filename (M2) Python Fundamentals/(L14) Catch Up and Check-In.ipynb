{
 "cells": [
  {
   "cell_type": "markdown",
   "id": "3c2e5e18-570f-4c63-bb23-b77dd4388941",
   "metadata": {},
   "source": [
    "# Collecting Data to Make Change\n",
    "\n",
    "We have been talking a good bit about how data and information is used and how those uses affect our daily lives. Now let's talk about how we can take control and begin gathering data and information for ourselves!\n",
    "\n",
    "**Sociotechnical:** \"Data-Driven Change Advocacy\" -- **[Part One (Slides 1 - 14)](https://docs.google.com/presentation/d/1OYrdU-hzAMnhKguJdF_NV0iVIC5DUyA4Bc4jONCQxZ8/edit?usp=sharing)**\n",
    "\n",
    "# Catch Up and Check-In\n",
    "\n",
    "You can think of today like another work session. However, there is no new activity for you to focus on. If there is anything from previous classes that you still need to complete or would like some assistance with use this time to reach out to your peers and instructors. Instructors will also be checking in with learners 1:1.\n",
    "\n",
    "**WE'RE HALFWAY THERE!!!** You have made it through the first half of Hack the Hood's Tech Foundations! You are awesome. Be proud of yourself! I hope you are enjoying your time with us!"
   ]
  }
 ],
 "metadata": {
  "kernelspec": {
   "display_name": "Python 3 (ipykernel)",
   "language": "python",
   "name": "python3"
  },
  "language_info": {
   "codemirror_mode": {
    "name": "ipython",
    "version": 3
   },
   "file_extension": ".py",
   "mimetype": "text/x-python",
   "name": "python",
   "nbconvert_exporter": "python",
   "pygments_lexer": "ipython3",
   "version": "3.9.6"
  }
 },
 "nbformat": 4,
 "nbformat_minor": 5
}
