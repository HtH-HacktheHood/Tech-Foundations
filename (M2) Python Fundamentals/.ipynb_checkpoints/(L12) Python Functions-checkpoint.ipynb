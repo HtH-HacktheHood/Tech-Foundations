{
 "cells": [
  {
   "cell_type": "markdown",
   "id": "e0a453c2-94ba-425e-9865-ba319865ba48",
   "metadata": {},
   "source": [
    "# How do our online lives impact our reality?\n",
    "\n",
    "As you may have heard by now, the use of data is becoming a driving force within not just the tech industry but really all major industries. However, how is this data collected? How is this data then used after its be collected? And finally, how do these usages affect our everyday lives?\n",
    "\n",
    "**Sociotechnical:** **[\"Digital Cookie Crumbs\"](https://docs.google.com/presentation/d/1tNWND0tgmmNhbwn1bDybyMOBl99t6wTy2sfPWZ7Xc00/edit?usp=sharing)**\n",
    "\n",
    "As you move forward with your usage of technology with this newfound knowledge and insight, be sure to be mindful about how your online presence is influencing what happens in your day-to-day life. Data is a very powerful tool, but it can be used in both positive and negative ways.\n",
    "\n",
    "# More on Python Functions\n",
    "\n",
    "Functions are an essential part of the Python programming language: we have already encountered and used some of the many fantastic functions that are built-in in the Python language or that come with its library ecosystem. You've also seen that sometimes you’ll need to write your own functions to solve problems and perform various tasks. You use functions in programming to bundle a set of instructions that you want to use repeatedly or that, because of their complexity, are better self-contained in a sub-program and called when needed. That means that a function is a piece of code written to carry out a specified task. To carry out that specific task, the function might or might not need multiple inputs. When the task is carried out, the function can or can not return one or more values.\n",
    "\n",
    "### Three Python Function Types\n",
    "1. **Built-in functions** ➾ such as the help( ), print( ), and type( ) functions we have used before\n",
    "\n",
    "2. **User-Defined Functions** ➾ (UDFs) which are functions that users create to help them out by performing a specific set of instructions. Like the functions you defined for your lists and dictionaries\n",
    "\n",
    "3. **Anonymous functions** ➾ which are also called **lambda functions** because they are not declared with the standard def keyword."
   ]
  },
  {
   "cell_type": "code",
   "execution_count": 1,
   "id": "31f34013-0abb-41f1-9646-d483e2d2e9ad",
   "metadata": {},
   "outputs": [
    {
     "name": "stdout",
     "output_type": "stream",
     "text": [
      "<function <lambda> at 0x10a84b0d0>\n",
      "Learning about lambda functions\n",
      "None\n",
      "Learning about lambda functions\n"
     ]
    }
   ],
   "source": [
    "\"\"\"\n",
    "since we know the built-in functions and have already been practicing with UDFs lets look at an example of a lambda function\n",
    "\n",
    "when using lambda functions we can store them inside a variable, then that variable name acts as a function name, allowing us to utilize the lambda function\n",
    "\n",
    "when trying to call a lambda function we have to be sure to include something to have the lambda function operate on, below are a few examples\n",
    "\"\"\"\n",
    "\n",
    "# What a lambda returns\n",
    "string = 'Learning about lambda functions'\n",
    "print(lambda string : print(string))\n",
    "\n",
    "string = 'Learning about lambda functions'\n",
    "print((lambda string : print(string))(string))\n",
    "\n",
    "printer = lambda string: print(string)\n",
    "printer(string)"
   ]
  },
  {
   "cell_type": "markdown",
   "id": "333ff197-fb1b-4d0f-8652-b923734763cf",
   "metadata": {},
   "source": [
    "### Functions vs Methods\n",
    "A **method** refers to a function which is part of a **class**. You access it with an instance or object of the class. You have seen these being used when we practice with our data structures' classes, using the append method to add things to a list or using the keys method with a dictionary to get a list of all the keys. You can also create your own classes with their own methods, but we will not go over that during our time together. However, a function doesn’t have this restriction: it just refers to a standalone function. This means that all methods are functions, but not all functions are methods.\n",
    "\n",
    "### Parameters vs Arguments\n",
    "**Parameters** are the names used when defining a function or a method, and into which **arguments** will be mapped. In other words, arguments are the things which are supplied to any function or method call, while the function or method code refers to the arguments by their parameter names.\n",
    "\n",
    "For example: let's say that we structured a function as follows."
   ]
  },
  {
   "cell_type": "code",
   "execution_count": 2,
   "id": "6e1d350a-8f5e-4e39-949f-a865b3d44b14",
   "metadata": {},
   "outputs": [],
   "source": [
    "def sum(x, y):\n",
    "    return x + y"
   ]
  },
  {
   "cell_type": "markdown",
   "id": "88907310-71a0-42f3-a0f6-f898537d60a0",
   "metadata": {
    "tags": []
   },
   "source": [
    "**x** and **y** would be our parameters for this function. Once we call the function like say: **sum(3 + 9)** the **3** and the **9** are our arguments for this function call.\n",
    "\n",
    "The first argument of every class method is always a reference to the current instance of the class. By convention, this argument is called **self**. This all means that you don’t pass the reference to self in this case because self is the parameter name for an implicitly passed argument that refers to the instance through which a method is being invoked. It gets inserted implicitly into the argument list. Again, since this is specific to classes you don't need to worry about it much right now.\n",
    "\n",
    "Also thinking about parameters, you can give them default values. This means that if someone using the function does not give an argument for a parameter that has a default value, then the default value will be used. you can assign the default value when you define the function.\n",
    "\n",
    "In cases where you don’t know the exact number of arguments that you want to pass to a function, you can use the following syntax with *args."
   ]
  },
  {
   "cell_type": "code",
   "execution_count": 3,
   "id": "e195789b-ff6b-42da-82a5-3108b63355eb",
   "metadata": {},
   "outputs": [
    {
     "data": {
      "text/plain": [
       "10"
      ]
     },
     "execution_count": 3,
     "metadata": {},
     "output_type": "execute_result"
    }
   ],
   "source": [
    "def sum(*args):\n",
    "    total = 0\n",
    "    for arg in args:\n",
    "        total += arg\n",
    "    return total\n",
    "   \n",
    "sum(1, 2, 3, 4)"
   ]
  },
  {
   "cell_type": "markdown",
   "id": "3cdc2a23-5be4-40d5-bc51-90de67c8ed11",
   "metadata": {},
   "source": [
    "### The return Statement\n",
    "If you want to continue to work with the result of your function and use it in other parts of your algorithms, you will need to use the **return statement** to actually return a value, such as a atring, an integer, etcetera. In the example above, our return statement gives us the integer result of adding our two arguments and if we store that result in a variable we can use it elsewhere in our code."
   ]
  },
  {
   "cell_type": "code",
   "execution_count": 4,
   "id": "3c5100f1-b646-4341-bc7e-68b028d3892c",
   "metadata": {},
   "outputs": [
    {
     "name": "stdout",
     "output_type": "stream",
     "text": [
      "30\n"
     ]
    }
   ],
   "source": [
    "def sum(x, y):\n",
    "    return x + y\n",
    "\n",
    "total = sum(3, 9)\n",
    "\n",
    "print(total + 18)"
   ]
  },
  {
   "cell_type": "markdown",
   "id": "9d4e0b05-5b48-447b-9b98-075f12762f0a",
   "metadata": {},
   "source": [
    "If you tried this same block of code without the return statement in your function, you will get an error known as a **TypeError** because you can’t perform any operations with a NoneType object. If a function does not have a return statement it will always return a NoneType object. It is important to note that functions immediately exit when they come across a return statement, even if it means that they won’t return any value.\n",
    "\n",
    "Another thing that is worth mentioning about the return statement is the fact that you can use it to return **multiple values**. To do this, you make use of **tuples**.\n",
    "\n"
   ]
  },
  {
   "cell_type": "markdown",
   "id": "b22fe714-1ccb-410f-9ee4-deadfc000b48",
   "metadata": {},
   "source": [
    "### Global vs Local Variables\n",
    "In general, variables that are defined inside a function body have a **local scope**, and those defined outside have a **global scope**. That means that local variables are defined within a function block and can only be accessed inside that function, while global variables can be obtained by all functions that might be in your script.\n",
    "\n",
    "# No New Activity Today\n",
    "\n",
    "Use the remaining time to finish up your python practice and your version of the snake game. You got this!"
   ]
  }
 ],
 "metadata": {
  "kernelspec": {
   "display_name": "Python 3 (ipykernel)",
   "language": "python",
   "name": "python3"
  },
  "language_info": {
   "codemirror_mode": {
    "name": "ipython",
    "version": 3
   },
   "file_extension": ".py",
   "mimetype": "text/x-python",
   "name": "python",
   "nbconvert_exporter": "python",
   "pygments_lexer": "ipython3",
   "version": "3.9.6"
  }
 },
 "nbformat": 4,
 "nbformat_minor": 5
}
