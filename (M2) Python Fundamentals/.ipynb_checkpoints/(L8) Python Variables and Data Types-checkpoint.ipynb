{
 "cells": [
  {
   "cell_type": "markdown",
   "id": "e5958f12",
   "metadata": {},
   "source": [
    "# Variables\n",
    "\n",
    "### What is a variable? What does this word mean?\n",
    "\n",
    "A **variable** can be thought of as something that has the ability to change. You may be familiar with variables from algebra or science, where it is a symbol used to represent an unspecified value. **Variables in programming work DIFFERENTLY than variables in algebra**.\n",
    "\n",
    "<img alt=\"Mario Variables\" src=\"../images/mario.gif\" img>\n",
    "\n",
    "**What things in this Mario video game do you think could be variables in the code?**\n",
    "\n",
    "<img alt=\"Mario Variables 2\" src=\"../images/mario-vars.png\" img>\n",
    "\n",
    "In programming, a variable is a container for a value. You can think of a variable as a box. Each box has a unique label called the **variable name**. Each box or variable is also given a **value**.\n",
    "\n",
    "<img alt=\"Variable Boxes\" src=\"../images/vars-boxes.png\" img>\n",
    "\n",
    "Once a variable name has been assigned a value that variable is then stored in your computer’s **memory**. In programming, variables are a named place where data is stored, the data can typically change and the name gives us access to the data. The variable name is just the name of a location that stores data and we can replace the value stored in that location.\n",
    "\n",
    "<img alt=\"Lebron Teams\" src=\"../images/lebron-teams.png\" img>"
   ]
  },
  {
   "cell_type": "code",
   "execution_count": 1,
   "id": "df7037ae",
   "metadata": {},
   "outputs": [],
   "source": [
    "# For those who may not know, Lebron has actually played for three teams over his career: The Cleveland Cavaliers, The Miami Heat, and The Los Angeles Lakers. If we were to assign these as variables it would look like the following\n",
    "\n",
    "lebron_james_team = \"Cleveland Cavalier\"\n",
    "lebron_james_team = \"Miami Heat\"\n",
    "lebron_james_team = \"Los Angeles Lakers\""
   ]
  },
  {
   "cell_type": "markdown",
   "id": "0636366a",
   "metadata": {},
   "source": [
    "As you can see, we can use the same variable name and give it a different value. However, if this were to be a part of an algorithm, we would only have access to the most recent value that was given to a variable. Using the same example from above, we would only have access to the data \"Los Angeles Lakers\" because that was the last value given to the variable name.\n",
    "\n",
    "**Be sure that you are using clear and descriptive variable names!** Rather than naming variables x,y,z like we are used to in math and science, we want to use more descriptive names for our variables in programming. When we use the value 22 in our code we want the variable name to reflect what 22 is supposed to represent. For example if 22 represents an age then it would make more sense to initialize our variable something like this: **age = 22**. A variable name should give developers insight about what the variable is related to or used for.\n",
    "\n",
    "### What sort of values can be assigned to a variable?\n",
    "\n",
    "A variable can be assigned any value from the built-in python data types. **Data types** are defined as the classification or categorization of data items.  Data types determine what operations can be performed on a particular piece of data. \n",
    "\n",
    "<img alt=\"Data Types\" src=\"../images/python-data-types.jpeg\" img>\n",
    "\n",
    "## **Numeric Data**\n",
    "In Python, **numeric data types** represent the data which has numeric value. Numeric values can be **integers**, **floating numbers** or even **complex numbers**. These values are defined as **int**, **float** and **complex** class in Python.\n",
    "\n",
    "**Integers** – This value is represented by the int class. It contains positive or negative whole numbers (without fraction or decimal). In Python there is no limit to how long an integer value can be.\n",
    "\n",
    "**Floats** – This value is represented by the float class. It is a real number with floating point representation. In other words, floats are decimals or fractions. Optionally, the character e or E followed by a positive or negative integer may be appended to specify scientific notation.\n",
    "\n",
    "**Complex Numbers** – Complex numbers are represented by the complex class. It is composed of a real number (an integer or float plus an imaginary number) **( j )**. For example – 2+3j. These look a lot like algebra equations."
   ]
  },
  {
   "cell_type": "code",
   "execution_count": 2,
   "id": "83a76039",
   "metadata": {},
   "outputs": [
    {
     "name": "stdout",
     "output_type": "stream",
     "text": [
      "<class 'int'>\n",
      "<class 'float'>\n",
      "<class 'float'>\n",
      "<class 'complex'>\n"
     ]
    }
   ],
   "source": [
    "# Python has a built-in function: type() that returns the type of data of whatever is passed into it. We can combine this with the built-in function, print() to show all the types of following data\n",
    "\n",
    "print(type(97))\n",
    "print(type(13.61))\n",
    "print(type(20/40))\n",
    "print(type(2+3j))"
   ]
  },
  {
   "cell_type": "markdown",
   "id": "24f5d502",
   "metadata": {},
   "source": [
    "## Boolean Data\n",
    "\n",
    "Boolean data can only have one of the two built-in values, True or False. Boolean objects that are equal to True are truthy (true), and those equal to False are falsy (false). This is commonly referred to as data's **truthiness** in python. But non-Boolean objects can be evaluated in Boolean context as well and determined to be true or false. It is denoted by the class bool. True and False with capital ‘T’ and ‘F’ are valid booleans otherwise python will throw an error. Booleans can also be created using the built-in **bool( )** function."
   ]
  },
  {
   "cell_type": "code",
   "execution_count": 3,
   "id": "e89dbc25",
   "metadata": {},
   "outputs": [
    {
     "name": "stdout",
     "output_type": "stream",
     "text": [
      "<class 'bool'>\n",
      "<class 'bool'>\n"
     ]
    }
   ],
   "source": [
    "print(type(True))\n",
    "print(type(False))"
   ]
  },
  {
   "cell_type": "markdown",
   "id": "74933c60",
   "metadata": {},
   "source": [
    "## Set Data\n",
    "\n",
    "Sets are unordered collections of data types that are **iterable**, **mutable** and **unique** (no duplicate elements). The order of elements in a set is undefined though it may consist of various elements. Sets can be created by using the built-in **set( )** function with an iterable object or a sequence by placing the sequence inside curly braces, separated by commas. The type of elements in a set don't have to be the same, various mixed-up data type values can also be passed to the set. Data withn a set cannot be accessed by referring to an index, since sets are unordered the items has no index. You can loop through the set items using a **for loop**, or ask if a specified value is present in a set, by using the **in** keyword."
   ]
  },
  {
   "cell_type": "code",
   "execution_count": 4,
   "id": "e557148a",
   "metadata": {},
   "outputs": [
    {
     "name": "stdout",
     "output_type": "stream",
     "text": [
      "Intial blank Set: \n",
      "set()\n",
      "<class 'set'>\n",
      "\n",
      "Set with the use of String: \n",
      "{'d', 'k', 'c', 'e', 'a', 'h', 'o', 'H', 't'}\n",
      "\n",
      "Set with the use of List: \n",
      "{'Hack', 'the', 'Hood'}\n",
      "\n",
      "Set with the use of Mixed Values\n",
      "{1, 2, 4, 6, 'Hood', 'the', 'Hack'}\n",
      "\n",
      "Elements of set: \n",
      "1 2 4 6 Hood the Hack \n",
      " \n",
      "Checking elements: \n",
      "True\n"
     ]
    }
   ],
   "source": [
    "# Creating a Set \n",
    "set1 = set() \n",
    "print(\"Intial blank Set: \") \n",
    "print(set1)\n",
    "print(type(set1))\n",
    "    \n",
    "# Creating a Set with a String \n",
    "set1 = set(\"Hackthehood\") \n",
    "print(\"\\nSet with the use of String: \") \n",
    "print(set1) \n",
    "  \n",
    "# Creating a Set a List \n",
    "set1 = set([\"Hack\", \"the\", \"Hood\"]) \n",
    "print(\"\\nSet with the use of List: \") \n",
    "print(set1) \n",
    "  \n",
    "# Creating a Set with a mixed type of values (numbers and strings) \n",
    "set1 = set([1, 2, 'Hack', 4, 'the', 6, 'Hood']) \n",
    "print(\"\\nSet with the use of Mixed Values\") \n",
    "print(set1) \n",
    "\n",
    "# Accessing element using a for loop \n",
    "print(\"\\nElements of set: \") \n",
    "for i in set1: \n",
    "    print(i, end =\" \") \n",
    "    \n",
    "# Checking the element using in keyword\n",
    "print(\"\\n \\nChecking elements: \") \n",
    "print(\"Hack\" in set1) "
   ]
  },
  {
   "cell_type": "markdown",
   "id": "2e9623b4",
   "metadata": {},
   "source": [
    "## Dictionary Data\n",
    "\n",
    "A dictionary in Python is an unordered collection of data values used to store data values like a map. Unlike other data types that hold only a single value as an element, dictionaries hold **key:value pairs**. A key-value pair is used in the dictionary to make it more optimized. Each key is mapped to its appropriate value using a colon, and all key:value pairs are seperated by a comma. A dictionary can be created by placing a sequence of pairs within curly {} braces. Values in a dictionary can be of any data type and can be duplicated, but all keys must be immutable and unique. A dictionary can also be created by the built-in function **dict( )**. An empty dictionary can be created by just placing it to curly braces{}. Dictionary keys are case sensitive, same name but different cases of Key will be treated distinctly. Example: \"King\" and \"king\" would be treated as unique keys although they are the same word."
   ]
  },
  {
   "cell_type": "code",
   "execution_count": 5,
   "id": "e03edac3",
   "metadata": {
    "scrolled": false
   },
   "outputs": [
    {
     "name": "stdout",
     "output_type": "stream",
     "text": [
      "Empty Dictionary: \n",
      "{}\n",
      "<class 'dict'>\n",
      "\n",
      "Dictionary with the use of Integer Keys: \n",
      "{23: 'Lebron James', 35: 'Kevin Durant', 30: 'Stephen Curry', 'Damian Lillard': 0}\n",
      "\n",
      "Dictionary with the use of Mixed Keys: \n",
      "{'Name': 'HacktheHood', 1: [1, 2, 3, 4]}\n",
      "\n",
      "Dictionary with the use of dict(): \n",
      "{1: 'Hack', 2: 'the', 3: 'Hood'}\n",
      "\n",
      "Dictionary with each item as a pair: \n",
      "{1: 'Hack', 2: 'Hood'}\n"
     ]
    }
   ],
   "source": [
    "# Creating an empty Dictionary \n",
    "Dict = {} \n",
    "print(\"Empty Dictionary: \") \n",
    "print(Dict)\n",
    "print(type(Dict))\n",
    "    \n",
    "# Creating a Dictionary with Integer Keys \n",
    "Dict = {23: \"Lebron James\", 35: \"Kevin Durant\", 30: \"Stephen Curry\", \"Damian Lillard\": 0} \n",
    "print(\"\\nDictionary with the use of Integer Keys: \") \n",
    "print(Dict) \n",
    "    \n",
    "# Creating a Dictionary with Mixed keys \n",
    "Dict = {'Name': 'HacktheHood', 1: [1, 2, 3, 4]} \n",
    "print(\"\\nDictionary with the use of Mixed Keys: \") \n",
    "print(Dict) \n",
    "    \n",
    "# Creating a Dictionary with dict() method \n",
    "Dict = dict({1: 'Hack', 2: 'the', 3:'Hood'}) \n",
    "print(\"\\nDictionary with the use of dict(): \") \n",
    "print(Dict) \n",
    "    \n",
    "# Creating a Dictionary with each item as a Pair \n",
    "Dict = dict([(1, 'Hack'), (2, 'Hood')]) \n",
    "print(\"\\nDictionary with each item as a pair: \") \n",
    "print(Dict) "
   ]
  },
  {
   "cell_type": "markdown",
   "id": "a36c61a5",
   "metadata": {},
   "source": [
    "## Sequence Data\n",
    "In Python, sequence data types are ordered collections of similar or different data types. Sequences allows to store multiple values in an organized and efficient fashion. There are several sequence types in Python are **strings**, **lists** and **tuples**.\n",
    "\n",
    "**String** - Strings are arrays of bytes representing Unicode characters. A string is a collection of one or more characters put in a single quote, double-quote or triple quote. In python there is no character data type, a character is a string of length one. It is represented by **str** class. Strings in Python can be created using single quotes or double quotes or even triple quotes. Individual characters of a string can be accessed by using the method of **indexing**. We will learn more about indexing later.\n",
    "\n",
    "**List** - Lists are just like the arrays, declared in other languages which is a ordered collection of data. It is very flexible as the items in a list do not need to be of the same type. It is represented by **list** class. Lists can be created by just placing the sequence inside the square brackets [ ]. Each value within a list can be accessed by indexing as well or the use of loops.\n",
    "\n",
    "**Tuple** - Just like lists, tuples are also an ordered collection of Python objects. The only difference between tuples and lists is that tuples are **immutable** meaning it cannot be modified after it is created. It is represented by **tuple** class. Tuples are created by placing a sequence of values separated by ‘comma’ with or without the use of parentheses for grouping of the data sequence. Tuples can contain any number of elements and of any datatype (like strings, integers, lists, etc.). Tuples can also be created with a single element, but it is a bit tricky. Having one element in the parentheses is not sufficient, there must be a trailing ‘comma’ to make it a tuple. Creation of Python tuple without the use of parentheses is known as **tuple packing**. You can access the individual values in a tuble through indexing as well as a method called **unpacking**."
   ]
  },
  {
   "cell_type": "code",
   "execution_count": 6,
   "id": "21927ce5",
   "metadata": {},
   "outputs": [
    {
     "name": "stdout",
     "output_type": "stream",
     "text": [
      "String with the use of Single Quotes: \n",
      "Welcome to Hack the Hood\n",
      "<class 'str'>\n",
      "\n",
      "String with the use of Double Quotes: \n",
      "Tech is so cool!\n",
      "\n",
      "String with the use of Triple Quotes: \n",
      "I want to learn more about technology!\n",
      "\n",
      "Creating a multiline String: \n",
      "Hack \n",
      "the \n",
      "Hood\n"
     ]
    }
   ],
   "source": [
    "# Creating a String with single Quotes \n",
    "String1 = 'Welcome to Hack the Hood'\n",
    "print(\"String with the use of Single Quotes: \") \n",
    "print(String1)\n",
    "print(type(String1))\n",
    "    \n",
    "# Creating a String with double Quotes \n",
    "String1 = \"Tech is so cool!\"\n",
    "print(\"\\nString with the use of Double Quotes: \") \n",
    "print(String1)\n",
    "    \n",
    "# Creating a String with triple Quotes \n",
    "String1 = '''I want to learn more about technology!'''\n",
    "print(\"\\nString with the use of Triple Quotes: \") \n",
    "print(String1) \n",
    "  \n",
    "# Creating String with triple Quotes allows multiple lines \n",
    "String1 = '''Hack \n",
    "the \n",
    "Hood'''\n",
    "print(\"\\nCreating a multiline String: \") \n",
    "print(String1)"
   ]
  },
  {
   "cell_type": "code",
   "execution_count": 7,
   "id": "0b466d00",
   "metadata": {},
   "outputs": [
    {
     "name": "stdout",
     "output_type": "stream",
     "text": [
      "Intial blank List: \n",
      "[]\n",
      "<class 'list'>\n",
      "\n",
      "List with the use of String: \n",
      "['HacktheHood']\n",
      "\n",
      "List containing multiple values: \n",
      "['Hack', 'the', 'Hood']\n",
      "\n",
      "Multi-Dimensional List: \n",
      "[['Hack', 'the'], ['Hood']]\n"
     ]
    }
   ],
   "source": [
    "# Creating a List \n",
    "List = [] \n",
    "print(\"Intial blank List: \") \n",
    "print(List)\n",
    "print(type(List))\n",
    "    \n",
    "# Creating a List with the use of a String \n",
    "List = ['HacktheHood'] \n",
    "print(\"\\nList with the use of String: \") \n",
    "print(List) \n",
    "    \n",
    "# Creating a List with the use of multiple values \n",
    "List = [\"Hack\", \"the\", \"Hood\"] \n",
    "print(\"\\nList containing multiple values: \") \n",
    "print(List)\n",
    "\n",
    "# Creating a Multi-Dimensional List \n",
    "# (By Nesting a list inside a List) \n",
    "List = [['Hack', 'the'], ['Hood']] \n",
    "print(\"\\nMulti-Dimensional List: \") \n",
    "print(List) "
   ]
  },
  {
   "cell_type": "code",
   "execution_count": 8,
   "id": "64eda7ca",
   "metadata": {},
   "outputs": [
    {
     "name": "stdout",
     "output_type": "stream",
     "text": [
      "Initial empty Tuple: \n",
      "()\n",
      "<class 'tuple'>\n",
      "\n",
      "Tuple with the use of String: \n",
      "('Hack', 'Hood')\n",
      "\n",
      "Tuple using List: \n",
      "(1, 2, 4, 5, 6)\n",
      "\n",
      "Tuple with the use of function: \n",
      "('H', 'a', 'c', 'k')\n",
      "\n",
      "Tuple with nested tuples: \n",
      "((0, 1, 2, 3), ('python', 'tech'))\n"
     ]
    }
   ],
   "source": [
    "# Creating an empty tuple \n",
    "Tuple1 = () \n",
    "print(\"Initial empty Tuple: \") \n",
    "print (Tuple1)\n",
    "print(type(Tuple1))\n",
    "    \n",
    "# Creating a Tuple with the use of Strings \n",
    "Tuple1 = ('Hack', 'Hood') \n",
    "print(\"\\nTuple with the use of String: \") \n",
    "print(Tuple1) \n",
    "    \n",
    "# Creating a Tuple with the use of list \n",
    "list1 = [1, 2, 4, 5, 6] \n",
    "print(\"\\nTuple using List: \") \n",
    "print(tuple(list1)) \n",
    "  \n",
    "# Creating a Tuple with the use of built-in function \n",
    "Tuple1 = tuple('Hack') \n",
    "print(\"\\nTuple with the use of function: \") \n",
    "print(Tuple1) \n",
    "  \n",
    "# Creating a Tuple with nested tuples \n",
    "Tuple1 = (0, 1, 2, 3) \n",
    "Tuple2 = ('python', 'tech') \n",
    "Tuple3 = (Tuple1, Tuple2) \n",
    "print(\"\\nTuple with nested tuples: \") \n",
    "print(Tuple3) "
   ]
  },
  {
   "cell_type": "markdown",
   "id": "c0c8c456",
   "metadata": {},
   "source": [
    "In addition to these python built-in data types there are also data types, more commonly referred to as **data structures** that can be created by the developer.\n",
    "\n",
    "<img alt=\"Data Types\" src=\"../images/python-data.png\" img>\n",
    "\n",
    "While these other data structures are important, they are for more advance algorithmic processes, so we will not cover them much in our time together.\n",
    "\n",
    "# Now let's practice using variables and data types!\n",
    "\n",
    "**[Variables and Data Types Practice](https://docs.google.com/document/d/1hgoP1zJ285bm4w2AGB4I2_3M65N0eFKJmf4Gr6VOpwg/edit?usp=sharing)**"
   ]
  }
 ],
 "metadata": {
  "kernelspec": {
   "display_name": "Python 3 (ipykernel)",
   "language": "python",
   "name": "python3"
  },
  "language_info": {
   "codemirror_mode": {
    "name": "ipython",
    "version": 3
   },
   "file_extension": ".py",
   "mimetype": "text/x-python",
   "name": "python",
   "nbconvert_exporter": "python",
   "pygments_lexer": "ipython3",
   "version": "3.9.6"
  }
 },
 "nbformat": 4,
 "nbformat_minor": 5
}
