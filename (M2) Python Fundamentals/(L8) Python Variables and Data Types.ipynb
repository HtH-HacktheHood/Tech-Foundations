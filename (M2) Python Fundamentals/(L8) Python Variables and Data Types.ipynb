{
 "cells": [
  {
   "cell_type": "markdown",
   "id": "d121dc19",
   "metadata": {},
   "source": [
    "# Variables\n",
    "\n",
    "### What is a variable? What does this word mean?\n",
    "\n",
    "A **variable** can be thought of as something that has the ability to change. You may be familiar with variables from algebra or science, where it is a symbol used to represent an unspecified value. **Variables in programming work DIFFERENTLY than variables in algebra**.\n",
    "\n",
    "<img alt=\"Mario Variables\" src=\"../images/mario.gif\" img>\n",
    "\n",
    "**What things in this Mario video game do you think could be variables in the code?**\n",
    "\n",
    "<img alt=\"Mario Variables 2\" src=\"../images/mario-vars.png\" img>\n",
    "\n",
    "In programming, a variable is a container for a value. You can think of a variable as a box. Each box has a unique label called the **variable name**. Each box or variable is also given a **value**.\n",
    "\n",
    "<img alt=\"Variable Boxes\" src=\"../images/vars-boxes.png\" img>\n",
    "\n",
    "Once a variable name has been assigned a value that variable is then stored in your computer’s **memory**. In programming, variables are a named place where data is stored, the data can typically change and the name gives us access to the data. The variable name is just the name of a location that stores data and we can replace the value stored in that location.\n",
    "\n",
    "<img alt=\"Lebron Teams\" src=\"../images/lebron-teams.png\" img>"
   ]
  },
  {
   "cell_type": "code",
   "execution_count": 1,
   "id": "92d78d78",
   "metadata": {},
   "outputs": [],
   "source": [
    "# For those who may not know, Lebron has actually played for three teams over his career: The Cleveland Cavaliers, The Miami Heat, and The Los Angeles Lakers. If we were to assign these as variables it would look like the following\n",
    "\n",
    "lebron_james_team = \"Cleveland Cavalier\"\n",
    "lebron_james_team = \"Miami Heat\"\n",
    "lebron_james_team = \"Los Angeles Lakers\""
   ]
  },
  {
   "cell_type": "markdown",
   "id": "0f8b7d50",
   "metadata": {},
   "source": [
    "As you can see, we can use the same variable name and give it a different value. However, if this were to be a part of an algorithm, we would only have access to the most recent value that was given to a variable. Using the same example from above, we would only have access to the data \"Los Angeles Lakers\" because that was the last value given to the variable name.\n",
    "\n",
    "**Be sure that you are using clear and descriptive variable names!** Rather than naming variables x,y,z like we are used to in math and science, we want to use more descriptive names for our variables in programming. When we use the value 22 in our code we want the variable name to reflect what 22 is supposed to represent. For example if 22 represents an age then it would make more sense to initialize our variable something like this: **age = 22**. A variable name should give developers insight about what the variable is related to or used for.\n",
    "\n",
    "### What sort of values can be assigned to a variable?\n",
    "\n",
    "A variable can be assigned any value from the built-in python data types. **Data types** are defined as the classification or categorization of data items.  Data types determine what operations can be performed on a particular piece of data. \n",
    "\n",
    "<img alt=\"Data Types\" src=\"../images/python-data-types.jpeg\" img>\n",
    "\n",
    "## **Numeric Data**\n",
    "In Python, **numeric data types** represent the data which has numeric value. Numeric values can be **integers**, **floating numbers** or even **complex numbers**. These values are defined as **int**, **float** and **complex** class in Python.\n",
    "\n",
    "**Integers** – This value is represented by the int class. It contains positive or negative whole numbers (without fraction or decimal). In Python there is no limit to how long an integer value can be.\n",
    "\n",
    "**Float** – This value is represented by the float class. It is a real number with floating point representation. In other words, floats are decimals or fractions. Optionally, the character e or E followed by a positive or negative integer may be appended to specify scientific notation.\n",
    "\n",
    "**Complex Numbers** – Complex numbers are represented by the complex class. It is composed of a real number (an integer or float plus an imaginary number) **( j )**. For example – 2+3j. These look a lot like algebra equations."
   ]
  },
  {
   "cell_type": "code",
   "execution_count": 2,
   "id": "7efe216c",
   "metadata": {},
   "outputs": [
    {
     "name": "stdout",
     "output_type": "stream",
     "text": [
      "<class 'int'>\n",
      "<class 'float'>\n",
      "<class 'float'>\n",
      "<class 'complex'>\n"
     ]
    }
   ],
   "source": [
    "# Python has a built-in function: type() that returns the type of data of whatever is passed into it. We can combine this with the built-in function, print() to show all the types of following data\n",
    "\n",
    "print(type(97))\n",
    "print(type(13.61))\n",
    "print(type(20/40))\n",
    "print(type(2+3j))"
   ]
  },
  {
   "cell_type": "markdown",
   "id": "e89680e8",
   "metadata": {},
   "source": [
    "## Boolean Data\n",
    "\n",
    "Boolean data can only have one of the two built-in values, True or False. Boolean objects that are equal to True are truthy (true), and those equal to False are falsy (false). This is commonly referred to as data's **truthiness** in python. But non-Boolean objects can be evaluated in Boolean context as well and determined to be true or false. It is denoted by the class bool. True and False with capital ‘T’ and ‘F’ are valid booleans otherwise python will throw an error."
   ]
  },
  {
   "cell_type": "code",
   "execution_count": 3,
   "id": "ff21cf0c",
   "metadata": {},
   "outputs": [
    {
     "name": "stdout",
     "output_type": "stream",
     "text": [
      "<class 'bool'>\n",
      "<class 'bool'>\n"
     ]
    }
   ],
   "source": [
    "print(type(True))\n",
    "print(type(False))"
   ]
  },
  {
   "cell_type": "markdown",
   "id": "f9d0e4e5",
   "metadata": {},
   "source": [
    "## Set Data\n",
    "\n",
    "Sets are unordered collections of data types that are **iterable**, **mutable** and **unique** (no duplicate elements). The order of elements in a set is undefined though it may consist of various elements. Sets can be created by using the built-in **set( )** function with an iterable object or a sequence by placing the sequence inside curly braces, separated by commas. The type of elements in a set don't have to be the same, various mixed-up data type values can also be passed to the set. Data withn a set cannot be accessed by referring to an index, since sets are unordered the items has no index. You can loop through the set items using a **for loop**, or ask if a specified value is present in a set, by using the **in** keyword."
   ]
  },
  {
   "cell_type": "code",
   "execution_count": 3,
   "id": "32689e74",
   "metadata": {},
   "outputs": [
    {
     "name": "stdout",
     "output_type": "stream",
     "text": [
      "Intial blank Set: \n",
      "set()\n",
      "\n",
      "Set with the use of String: \n",
      "{'e', 'o', 'd', 'H', 'a', 'h', 'c', 't', 'k'}\n",
      "\n",
      "Set with the use of List: \n",
      "{'Hack', 'Hood', 'the'}\n",
      "\n",
      "Set with the use of Mixed Values\n",
      "{'the', 1, 2, 4, 6, 'Hood', 'Hack'}\n",
      "\n",
      "Elements of set: \n",
      "the 1 2 4 6 Hood Hack \n",
      " \n",
      "Checking elements: \n",
      "True\n"
     ]
    }
   ],
   "source": [
    "# Creating a Set \n",
    "set1 = set() \n",
    "print(\"Intial blank Set: \") \n",
    "print(set1) \n",
    "    \n",
    "# Creating a Set with a String \n",
    "set1 = set(\"Hackthehood\") \n",
    "print(\"\\nSet with the use of String: \") \n",
    "print(set1) \n",
    "  \n",
    "# Creating a Set a List \n",
    "set1 = set([\"Hack\", \"the\", \"Hood\"]) \n",
    "print(\"\\nSet with the use of List: \") \n",
    "print(set1) \n",
    "  \n",
    "# Creating a Set with a mixed type of values (numbers and strings) \n",
    "set1 = set([1, 2, 'Hack', 4, 'the', 6, 'Hood']) \n",
    "print(\"\\nSet with the use of Mixed Values\") \n",
    "print(set1) \n",
    "\n",
    "# Accessing element using a for loop \n",
    "print(\"\\nElements of set: \") \n",
    "for i in set1: \n",
    "    print(i, end =\" \") \n",
    "    \n",
    "# Checking the element using in keyword\n",
    "print(\"\\n \\nChecking elements: \") \n",
    "print(\"Hack\" in set1) "
   ]
  },
  {
   "cell_type": "code",
   "execution_count": null,
   "id": "e5df7e92",
   "metadata": {},
   "outputs": [],
   "source": []
  }
 ],
 "metadata": {
  "kernelspec": {
   "display_name": "Python 3 (ipykernel)",
   "language": "python",
   "name": "python3"
  },
  "language_info": {
   "codemirror_mode": {
    "name": "ipython",
    "version": 3
   },
   "file_extension": ".py",
   "mimetype": "text/x-python",
   "name": "python",
   "nbconvert_exporter": "python",
   "pygments_lexer": "ipython3",
   "version": "3.9.6"
  }
 },
 "nbformat": 4,
 "nbformat_minor": 5
}
