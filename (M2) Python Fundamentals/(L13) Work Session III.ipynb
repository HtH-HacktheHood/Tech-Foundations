{
 "cells": [
  {
   "cell_type": "markdown",
   "id": "0aff093d-0fca-4f39-aa91-dd380354d498",
   "metadata": {},
   "source": [
    "# Signs of Propaganda and Misinformation\n",
    "\n",
    "The media has a huge affect on the lives of many people. However, with so many sources of information, how do we know which ones to rely on? How can we identify when information is legitimate versus when it is false and/or a form of propaganda? Learning how to identify these sorts of things will change the way you interact with all sorts of different technologies!\n",
    "\n",
    "**Sociotechnical:** **[\"Misinformation\"](https://docs.google.com/presentation/d/1KOru5dwvcp1PFKGRjdzh4jc6XptYSRXv86qWafNpCag/edit?usp=sharing)**\n",
    "\n",
    "How can we use this new knowledge to identify good sources of information that we may want to use alongside with the technologies that we create?\n",
    "\n",
    "# Work Session III\n",
    "There are no new topics to be introduced today! Hopefully you have been able to complete all the previous Python activities already, but if not use this time to do so. If you are all caught up, use this time to get started on the next activity: \n",
    "\n",
    "**[Captain Rainbow's Checklist](https://docs.google.com/document/d/1j6QglX9jIp7WoE84mjZDPiSngCTb5yr9u2Hk7qG6h3w/edit?usp=sharing)**\n",
    "\n",
    "You can do it!"
   ]
  }
 ],
 "metadata": {
  "kernelspec": {
   "display_name": "Python 3 (ipykernel)",
   "language": "python",
   "name": "python3"
  },
  "language_info": {
   "codemirror_mode": {
    "name": "ipython",
    "version": 3
   },
   "file_extension": ".py",
   "mimetype": "text/x-python",
   "name": "python",
   "nbconvert_exporter": "python",
   "pygments_lexer": "ipython3",
   "version": "3.9.6"
  }
 },
 "nbformat": 4,
 "nbformat_minor": 5
}
