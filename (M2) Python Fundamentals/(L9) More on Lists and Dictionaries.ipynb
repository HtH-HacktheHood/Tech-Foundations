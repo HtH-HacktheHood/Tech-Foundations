{
 "cells": [
  {
   "cell_type": "markdown",
   "id": "eb76ae4e",
   "metadata": {},
   "source": [
    "# Making a List, Checking it Twice\n",
    "\n",
    "During the last lesson, we discussed a type of data known as **sequence data**. Sequences allow you to store multiple values in an organized and efficient manner. Of the sequence data types we've discussed, the most commonly used ones are strings and lists. Strings are a pretty simple data type to understand, although we will discuss a few more details about strings later. Here we want to focus mostly on the list. \n",
    "\n",
    "Python knows a number of compound data types, used to group together other values. The list, which if you remember from the last lesson, can be written as a list of comma-separated values between square brackets. Lists might contain items of different types, but usually the items all have the same type. Items in a list can be accessed through **indexing**.\n",
    "\n",
    "### Indexing\n",
    "Indexing in Python is a way to refer the individual items within an iterable by its position. In other words, you can directly access your elements of choice within an iterable and do various operations depending on your needs. In Python, objects are **“zero-indexed”** meaning the **position count starts at zero**. Many other programming languages follow the same pattern. So for example, if there are 5 elements present within a list, then the first element (i.e. the leftmost element) holds the “zeroth” place, followed by the elements in first, second, third, and fourth positions. The list class in python has a **method** (which is just a function used by a specific class) called **index( )** that can be used to find the index number of a given value within a list."
   ]
  },
  {
   "cell_type": "code",
   "execution_count": 1,
   "id": "869e3be1",
   "metadata": {},
   "outputs": [
    {
     "name": "stdout",
     "output_type": "stream",
     "text": [
      "\n",
      "Index of Lebron James:\n",
      "0\n",
      "\n",
      "Index of Stephen Curry:\n",
      "2\n",
      "\n",
      "Index of the letter 'K':\n",
      "0\n",
      "\n",
      "Index of the letter 'D':\n",
      "6\n"
     ]
    }
   ],
   "source": [
    "nba_players = [\"Lebron James\", \"Kevin Durant\", \"Stephen Curry\", \"Damian Lillard\", \"Kawhi Leonard\"]\n",
    " \n",
    "# Printing out the indexes of Apples and Banana\n",
    "print(\"\\nIndex of Lebron James:\")\n",
    "print(nba_players.index(\"Lebron James\"))\n",
    "print(\"\\nIndex of Stephen Curry:\")\n",
    "print(nba_players.index(\"Stephen Curry\"))\n",
    "\n",
    "# As mentioned in the last lesson, indexing can be used on any iterable, this includes strings. Here is an example:\n",
    "player = \"Kevin Durant\"\n",
    "print(\"\\nIndex of the letter 'K':\")\n",
    "print(player.index(\"K\"))\n",
    "print(\"\\nIndex of the letter 'D':\")\n",
    "print(player.index(\"D\"))"
   ]
  },
  {
   "cell_type": "markdown",
   "id": "a28a4fb0",
   "metadata": {},
   "source": [
    "### The Index Operator\n",
    "\n",
    "The index operator is represented by opening and closing square brackets: **[ ]**. The syntax, however, requires you to put a number inside the brackets. The syntax is as follow:\n",
    "\n",
    "**ObjectName[ n ]** <br>n is just an integer number that represents the position of the element we want to access. So, using the same list of our nba players from above if we wanted to access the string \"Lebron James\" within our list we can use the following syntax (since we just found out what its index number was): \n",
    "\n",
    "**nba_players[ 0 ]**\n",
    "\n",
    "### Nested Indexing\n",
    "\n",
    "When we have an iterable inside of another iterable, like with our list of strings, we can use two index operators next to one another to access the index of the second iterable. This is referred to as **nested indexing**. For example if we wanted to access the letter \"L\" in \"Lebron James\" we could use:\n",
    "\n",
    "**nba_players[ 0 ][ 0 ]**\n",
    "\n",
    "### Negative Indexing\n",
    "\n",
    "Here's something to think about: what if we want to access the last item in a list or other iterables, but we don't know how many values are inside it? We’ve just learned how to use indexing in Lists and Strings to get the specific items of our interest. Although in all our previous cases we’ve used a **positive integer** inside our index operator. Sometimes, if we are interested in the last few elements of a list or maybe we just want to index the list from the opposite end, we can use **negative integers**. However, in negative indexing the last element is represented by -1 and not -0. So to access the last item of our list we used above the syntax would be:\n",
    "\n",
    "**nba_players[ -1 ]**"
   ]
  },
  {
   "cell_type": "code",
   "execution_count": 2,
   "id": "c96be3db",
   "metadata": {},
   "outputs": [
    {
     "name": "stdout",
     "output_type": "stream",
     "text": [
      "Lebron James\n",
      "Kevin Durant\n",
      "Stephen Curry\n",
      "Damian Lillard\n",
      "Kawhi Leonard\n",
      "L\n",
      "D\n",
      "Kawhi Leonard\n",
      "Damian Lillard\n"
     ]
    }
   ],
   "source": [
    "# Regular Indexing\n",
    "print(nba_players[0])\n",
    "print(nba_players[1])\n",
    "print(nba_players[2])\n",
    "print(nba_players[3])\n",
    "print(nba_players[4])\n",
    "\n",
    "# Nested Indexing\n",
    "print(nba_players[0][0])\n",
    "print(nba_players[1][6])\n",
    "\n",
    "# Negative Indexing\n",
    "print(nba_players[-1])\n",
    "print(nba_players[-2])"
   ]
  },
  {
   "cell_type": "markdown",
   "id": "82bc70de",
   "metadata": {},
   "source": [
    "### List Methods\n",
    "\n",
    "Just like strings, the list class has a few built-in methods that can be used to perform various task with a list. We already discussed the index( ) method. Here are all the others:\n",
    "* **append( )** - Adds an element at the end of the list\n",
    "* **clear( )** - Removes all the elements from the list\n",
    "* **copy( )** - Returns a copy of the list\n",
    "* **count( )** - Returns the number of elements with the specified value\n",
    "* **extend( )** - Add the elements of a list (or any iterable), to the end of the current list\n",
    "* **insert( )** - Adds an element at the specified position\n",
    "* **pop( )** - Removes the element at the specified position\n",
    "* **remove( )** - Removes the first item with the specified value\n",
    "* **reverse( )** - Reverses the order of the list\n",
    "* **sort( )** - Sorts the list"
   ]
  },
  {
   "cell_type": "code",
   "execution_count": 3,
   "id": "125a17fe",
   "metadata": {},
   "outputs": [
    {
     "name": "stdout",
     "output_type": "stream",
     "text": [
      "Using append( )\n",
      "['Lebron James', 'Kevin Durant', 'Stephen Curry', 'Damian Lillard', 'Kawhi Leonard', 'Joel Embiid']\n",
      "\n",
      "Using copy( )\n",
      "['Lebron James', 'Kevin Durant', 'Stephen Curry', 'Damian Lillard', 'Kawhi Leonard', 'Joel Embiid']\n",
      "\n",
      "Using count( )\n",
      "1\n",
      "\n",
      "Using extend( )\n",
      "['Lebron James', 'Kevin Durant', 'Stephen Curry', 'Damian Lillard', 'Kawhi Leonard', 'Joel Embiid', 'James Harden', 'Giannis Antetokounmpo', 'Luka Doncic', 'Nikola Jokic', 'Zion Williamson']\n",
      "\n",
      "Using insert( )\n",
      "['Trae Young', 'Lebron James', 'Kevin Durant', 'Stephen Curry', 'Damian Lillard', 'Kawhi Leonard', 'Joel Embiid', 'James Harden', 'Giannis Antetokounmpo', 'Luka Doncic', 'Nikola Jokic', 'Zion Williamson']\n",
      "\n",
      "Using pop( )\n",
      "['Trae Young', 'Lebron James', 'Kevin Durant', 'Damian Lillard', 'Kawhi Leonard', 'Joel Embiid', 'James Harden', 'Giannis Antetokounmpo', 'Luka Doncic', 'Nikola Jokic', 'Zion Williamson']\n",
      "\n",
      "Using remove( )\n",
      "['Trae Young', 'Lebron James', 'Kevin Durant', 'Damian Lillard', 'Joel Embiid', 'James Harden', 'Giannis Antetokounmpo', 'Luka Doncic', 'Nikola Jokic', 'Zion Williamson']\n",
      "\n",
      "Using reverse( )\n",
      "['Zion Williamson', 'Nikola Jokic', 'Luka Doncic', 'Giannis Antetokounmpo', 'James Harden', 'Joel Embiid', 'Damian Lillard', 'Kevin Durant', 'Lebron James', 'Trae Young']\n",
      "\n",
      "Using sort( )\n",
      "[0, 2, 23, 30, 35]\n",
      "\n",
      "Using clear( )\n",
      "[]\n",
      "[]\n"
     ]
    }
   ],
   "source": [
    "nba_players.append(\"Joel Embiid\")\n",
    "print(\"Using append( )\")\n",
    "print(nba_players)\n",
    "\n",
    "players_copy = nba_players.copy() \n",
    "print(\"\\nUsing copy( )\")\n",
    "print(players_copy)\n",
    "\n",
    "print(\"\\nUsing count( )\")\n",
    "print(nba_players.count(\"Damian Lillard\"))\n",
    "\n",
    "more_players = [\"James Harden\", \"Giannis Antetokounmpo\", \"Luka Doncic\", \"Nikola Jokic\", \"Zion Williamson\"]\n",
    "nba_players.extend(more_players)\n",
    "print(\"\\nUsing extend( )\")\n",
    "print(nba_players)\n",
    "\n",
    "nba_players.insert(0, \"Trae Young\")\n",
    "print(\"\\nUsing insert( )\")\n",
    "print(nba_players)\n",
    "\n",
    "nba_players.pop(3)\n",
    "print(\"\\nUsing pop( )\")\n",
    "print(nba_players)\n",
    "\n",
    "nba_players.remove(\"Kawhi Leonard\")\n",
    "print(\"\\nUsing remove( )\")\n",
    "print(nba_players)\n",
    "\n",
    "nba_players.reverse()\n",
    "print(\"\\nUsing reverse( )\")\n",
    "print(nba_players)\n",
    "\n",
    "# To show you how the sort function works, lets use another list that contains numeric data. However, it does work with strings, it will just be easier to see with numbers\n",
    "\n",
    "# these are the jersey numbers of our original five players\n",
    "jersey_numbers = [23, 35, 30, 0, 2]\n",
    "jersey_numbers.sort()\n",
    "print(\"\\nUsing sort( )\")\n",
    "print(jersey_numbers)\n",
    "\n",
    "nba_players.clear()\n",
    "jersey_numbers.clear()\n",
    "print(\"\\nUsing clear( )\")\n",
    "print(nba_players)\n",
    "print(jersey_numbers)"
   ]
  },
  {
   "cell_type": "markdown",
   "id": "c5d13f14",
   "metadata": {},
   "source": [
    "# Reading the Dictionary\n",
    "\n",
    "Also during the last lesson, we discussed a type of data known as dictionaries, which are unordered collection of data values that are stored in key:value pairs. Dictionaries are similar to lists in that it is a collection of objects. Dictionaries and lists share the following characteristics:\n",
    "* Both are mutable.\n",
    "* Both are dynamic. They can grow and shrink as needed.\n",
    "* Both can be nested. A list can contain another list. A dictionary can contain another dictionary. A dictionary can also contain a list, and vice versa.\n",
    "\n",
    "Dictionaries differ from lists primarily in how elements are accessed:\n",
    "\n",
    "* List elements are accessed by their position in the list, via indexing.\n",
    "* Dictionary elements are accessed via keys.\n",
    "\n",
    "### Accessing Dictionary Values\n",
    "\n",
    "A value is retrieved from a dictionary by specifying its corresponding key in square brackets. The only difference from accessing values in a list is that with a list you use the index number to determine what positioned element you are trying to access. Dictionaries do not have an index because they are unordered, so you must pass the key within the square brackets."
   ]
  },
  {
   "cell_type": "code",
   "execution_count": 4,
   "id": "6e4ea62e",
   "metadata": {},
   "outputs": [
    {
     "name": "stdout",
     "output_type": "stream",
     "text": [
      "\n",
      "Using square bracket notation\n",
      "23\n",
      "30\n",
      "34\n",
      "\n",
      "Using dict class get( ) method\n",
      "35\n",
      "0\n"
     ]
    }
   ],
   "source": [
    "# let's create a dictionary using the same NBA players we used in our list. We can use our player names as the keys and their corresponding jersey numbers as the value\n",
    "\n",
    "NBA_players = {\n",
    "    \"Lebron James\": 23, \n",
    "    \"Kevin Durant\": 35, \n",
    "    \"Stephen Curry\": 30, \n",
    "    \"Damian Lillard\": 0, \n",
    "    \"Giannis Antetokounmpo\": 34 \n",
    "}\n",
    "\n",
    "# we can access each player's jersey number by passing their player name (the key) into square brackets\n",
    "\n",
    "print(\"\\nUsing square bracket notation\")\n",
    "print(NBA_players[\"Lebron James\"])\n",
    "print(NBA_players[\"Stephen Curry\"])\n",
    "print(NBA_players[\"Giannis Antetokounmpo\"])\n",
    "\n",
    "# you can also use the dictionary class's get( ) method to get values by passing the key into the function\n",
    "\n",
    "print(\"\\nUsing dict class get( ) method\")\n",
    "print(NBA_players.get(\"Kevin Durant\"))\n",
    "print(NBA_players.get(\"Damian Lillard\"))"
   ]
  },
  {
   "cell_type": "markdown",
   "id": "53877e3c",
   "metadata": {},
   "source": [
    "Another difference between dictionaries and lists is that you do not need to use any method to add values to a dictionary. You can do this with square bracket notation also!"
   ]
  },
  {
   "cell_type": "code",
   "execution_count": 5,
   "id": "2b0ce4f0",
   "metadata": {},
   "outputs": [
    {
     "name": "stdout",
     "output_type": "stream",
     "text": [
      "\n",
      "Adding players with bracket notation\n",
      "{'Lebron James': 23, 'Kevin Durant': 35, 'Stephen Curry': 30, 'Damian Lillard': 0, 'Giannis Antetokounmpo': 34, 'Joel Embiid': 21, 'Luka Doncic': 77, 'Trae Young': 11}\n",
      "\n",
      "Adding players with update( ) method\n",
      "{'Lebron James': 23, 'Kevin Durant': 35, 'Stephen Curry': 30, 'Damian Lillard': 0, 'Giannis Antetokounmpo': 34, 'Joel Embiid': 21, 'Luka Doncic': 77, 'Trae Young': 11, 'Kawhi Leonard': 2, 'James Harden': 13}\n"
     ]
    }
   ],
   "source": [
    "# lets add some more players to our dictionary\n",
    "\n",
    "NBA_players[\"Joel Embiid\"] = 21\n",
    "NBA_players[\"Luka Doncic\"] = 77\n",
    "NBA_players[\"Trae Young\"] = 11\n",
    "print(\"\\nAdding players with bracket notation\")\n",
    "print(NBA_players)\n",
    "\n",
    "# although you do not have to use a method to update dictionaries, there is one that does that: the update( ) method. You use this method by passing an iterable containing key:value pairs into the method\n",
    "\n",
    "NBA_players.update({\"Kawhi Leonard\": 2})\n",
    "NBA_players.update({\"James Harden\": 13})\n",
    "print(\"\\nAdding players with update( ) method\")\n",
    "print(NBA_players)"
   ]
  },
  {
   "cell_type": "markdown",
   "id": "fd64f27d",
   "metadata": {},
   "source": [
    "### Dictionary Methods\n",
    "\n",
    "Aside from the **get( )** and **update( )** methods we just covered, here are the rest of the dictionary class methods:\n",
    "* **clear( )** - Removes all the elements from the dictionary\n",
    "* **copy( )** - Returns a copy of the dictionary\n",
    "* **fromkeys( )** - Returns a dictionary with the specified keys and value\n",
    "* **items( )** - Returns a list containing a tuple for each key:value pair\n",
    "* **keys( )** - Returns a list containing the dictionary's keys\n",
    "* **pop( )** - Removes the element with the specified key\n",
    "* **popitem( )** - Removes the last inserted key-value pair\n",
    "* **setdefault( )** - Returns the value of the specified key. If the key does not exist: insert the key, with the specified value\n",
    "* **values( )** - Returns a list of all the values in the dictionary"
   ]
  },
  {
   "cell_type": "code",
   "execution_count": 6,
   "id": "36163b20",
   "metadata": {},
   "outputs": [
    {
     "name": "stdout",
     "output_type": "stream",
     "text": [
      "\n",
      "Using copy( )\n",
      "{'Lebron James': 23, 'Kevin Durant': 35, 'Stephen Curry': 30, 'Damian Lillard': 0, 'Giannis Antetokounmpo': 34, 'Joel Embiid': 21, 'Luka Doncic': 77, 'Trae Young': 11, 'Kawhi Leonard': 2, 'James Harden': 13}\n",
      "\n",
      "Using fromkeys( )\n",
      "{'Boston': True, 'Los Angeles': True, 'New York': True, 'Chicago': True, 'Philadelphia': True}\n",
      "\n",
      "Using keys( )\n",
      "dict_keys(['Lebron James', 'Kevin Durant', 'Stephen Curry', 'Damian Lillard', 'Giannis Antetokounmpo', 'Joel Embiid', 'Luka Doncic', 'Trae Young', 'Kawhi Leonard', 'James Harden'])\n",
      "dict_keys(['Boston', 'Los Angeles', 'New York', 'Chicago', 'Philadelphia'])\n",
      "\n",
      "Using pop( )\n",
      "{'Lebron James': 23, 'Kevin Durant': 35, 'Stephen Curry': 30, 'Damian Lillard': 0, 'Giannis Antetokounmpo': 34, 'Joel Embiid': 21, 'Luka Doncic': 77, 'Kawhi Leonard': 2, 'James Harden': 13}\n",
      "{'Boston': True, 'Los Angeles': True, 'Chicago': True, 'Philadelphia': True}\n",
      "\n",
      "Using popitem( )\n",
      "{'Lebron James': 23, 'Kevin Durant': 35, 'Stephen Curry': 30, 'Damian Lillard': 0, 'Giannis Antetokounmpo': 34, 'Joel Embiid': 21, 'Luka Doncic': 77, 'Kawhi Leonard': 2}\n",
      "{'Boston': True, 'Los Angeles': True, 'Chicago': True}\n",
      "\n",
      "Using setdefault( )\n",
      "{'Lebron James': 23, 'Kevin Durant': 35, 'Stephen Curry': 30, 'Damian Lillard': 0, 'Giannis Antetokounmpo': 34, 'Joel Embiid': 21, 'Luka Doncic': 77, 'Kawhi Leonard': 2, 'Trae Young': None, 'Devin Booker': 1}\n",
      "\n",
      "Using values( )\n",
      "dict_values([23, 35, 30, 0, 34, 21, 77, 2, None, 1])\n",
      "\n",
      "Using clear( )\n",
      "{}\n",
      "{}\n"
     ]
    }
   ],
   "source": [
    "dict_copy = NBA_players.copy()\n",
    "print(\"\\nUsing copy( )\")\n",
    "print(dict_copy)\n",
    "\n",
    "# when using the fromkeys( ) method, we have to be sure to called the dict class directly, also all keys that are passed in the first parameter will receive the same value(s) that you specify within the second.\n",
    "nba_cities = dict.fromkeys([\"Boston\", \"Los Angeles\", \"New York\", \"Chicago\", \"Philadelphia\"], True)\n",
    "print(\"\\nUsing fromkeys( )\")\n",
    "print(nba_cities)\n",
    "\n",
    "player_names = NBA_players.keys()\n",
    "city_names = nba_cities.keys()\n",
    "print(\"\\nUsing keys( )\")\n",
    "print(player_names)\n",
    "print(city_names)\n",
    "\n",
    "NBA_players.pop(\"Trae Young\")\n",
    "nba_cities.pop(\"New York\")\n",
    "print(\"\\nUsing pop( )\")\n",
    "print(NBA_players)\n",
    "print(nba_cities)\n",
    "\n",
    "NBA_players.popitem()\n",
    "nba_cities.popitem()\n",
    "print(\"\\nUsing popitem( )\")\n",
    "print(NBA_players)\n",
    "print(nba_cities)\n",
    "\n",
    "# the setdefault( ) method is another way to add items to your dictionary, but it can also look up pre-existing items\n",
    "NBA_players.setdefault(\"Trae Young\")\n",
    "NBA_players.setdefault(\"Devin Booker\", 1)\n",
    "print(\"\\nUsing setdefault( )\")\n",
    "print(NBA_players)\n",
    "\n",
    "jerseys = NBA_players.values()\n",
    "print(\"\\nUsing values( )\")\n",
    "print(jerseys)\n",
    "\n",
    "NBA_players.clear()\n",
    "nba_cities.clear()\n",
    "print(\"\\nUsing clear( )\")\n",
    "print(NBA_players)\n",
    "print(nba_cities)"
   ]
  },
  {
   "cell_type": "markdown",
   "id": "f16bfa2d",
   "metadata": {},
   "source": [
    "# Now that we have learned a bit more about these data types, let's practice using them!\n",
    "\n",
    "**[List and Dictionaries](https://docs.google.com/document/d/1mBAMCttdltl9-f7dTw0D_RFEnUlEet5j6apmyUyO7XI/edit?usp=sharing)**"
   ]
  }
 ],
 "metadata": {
  "kernelspec": {
   "display_name": "Python 3 (ipykernel)",
   "language": "python",
   "name": "python3"
  },
  "language_info": {
   "codemirror_mode": {
    "name": "ipython",
    "version": 3
   },
   "file_extension": ".py",
   "mimetype": "text/x-python",
   "name": "python",
   "nbconvert_exporter": "python",
   "pygments_lexer": "ipython3",
   "version": "3.9.6"
  }
 },
 "nbformat": 4,
 "nbformat_minor": 5
}
