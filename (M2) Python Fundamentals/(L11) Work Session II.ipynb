{
 "cells": [
  {
   "cell_type": "markdown",
   "id": "ae584d07-5b1d-471e-9f54-efa15c4b1c0c",
   "metadata": {},
   "source": [
    "# Kahoot Review Quiz Game\n",
    "Today we will start by having another Kahoot review of the things we've learned about Python so far. Go to Kahoot or download the Kahoot app on your phone. Wait for me to give you the code number and we will get started!\n",
    "\n",
    "# Work Session II\n",
    "There are no new topics to be introduced today! Use this time to finish up your Python practice assignments. Also, if you are in need of any extra assistance, now would be a great time to seek it out from your peers and instructors! If you have completed all the necessary activities you can get started with this new tutorial!\n",
    "\n",
    "**[]()**\n",
    "\n",
    "You can do it!"
   ]
  },
  {
   "cell_type": "code",
   "execution_count": null,
   "id": "e5398f3d-92aa-4159-b73f-f38b3eef0429",
   "metadata": {},
   "outputs": [],
   "source": []
  }
 ],
 "metadata": {
  "kernelspec": {
   "display_name": "Python 3 (ipykernel)",
   "language": "python",
   "name": "python3"
  },
  "language_info": {
   "codemirror_mode": {
    "name": "ipython",
    "version": 3
   },
   "file_extension": ".py",
   "mimetype": "text/x-python",
   "name": "python",
   "nbconvert_exporter": "python",
   "pygments_lexer": "ipython3",
   "version": "3.9.6"
  }
 },
 "nbformat": 4,
 "nbformat_minor": 5
}
