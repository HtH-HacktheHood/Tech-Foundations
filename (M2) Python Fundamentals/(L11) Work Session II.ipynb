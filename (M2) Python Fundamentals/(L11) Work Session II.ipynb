{
 "cells": [
  {
   "cell_type": "markdown",
   "id": "ae584d07-5b1d-471e-9f54-efa15c4b1c0c",
   "metadata": {},
   "source": [
    "# Kahoot Review Quiz Game\n",
    "Today we will start by having another Kahoot review of the things we've learned about Python so far. Go to Kahoot or download the Kahoot app on your phone. Wait for me to give you the code number and we will get started!\n",
    "\n",
    "# Work Session II\n",
    "There are no new topics to be introduced today! Use this time to finish up your Python practice assignments. Also, if you are in need of any extra assistance, now would be a great time to seek it out from your peers and instructors! If you have completed all the necessary activities you can get started with this new tutorial!\n",
    "\n",
    "**[The Classic Snake Game](https://docs.google.com/document/d/1y1lupKRTKi6RypGR_S7xDvjD1JNbs9_QMNm8gp3N39E/edit?usp=sharing)**\n",
    "\n",
    "You can do it!"
   ]
  }
 ],
 "metadata": {
  "kernelspec": {
   "display_name": "Python 3 (ipykernel)",
   "language": "python",
   "name": "python3"
  },
  "language_info": {
   "codemirror_mode": {
    "name": "ipython",
    "version": 3
   },
   "file_extension": ".py",
   "mimetype": "text/x-python",
   "name": "python",
   "nbconvert_exporter": "python",
   "pygments_lexer": "ipython3",
   "version": "3.9.6"
  }
 },
 "nbformat": 4,
 "nbformat_minor": 5
}
