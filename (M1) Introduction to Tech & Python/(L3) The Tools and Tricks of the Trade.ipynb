{
 "cells": [
  {
   "cell_type": "markdown",
   "id": "ea322452",
   "metadata": {},
   "source": [
    "# And Now, The Adventure Begins!"
   ]
  },
  {
   "cell_type": "markdown",
   "id": "d30284f7",
   "metadata": {},
   "source": [
    "But first, let's take a closer look at our computers, how they operate, and how those operations influence our society.\n",
    "\n",
    "**Sociotechnical:** \"Rejecting the Binary\" -- **[Part One (Slides 1 - 11)](https://docs.google.com/presentation/d/1isk3YcrRCtAS_o2d3oYTikLBpbTxOFnhg9byAPl6IPQ/edit?usp=sharing)**"
   ]
  },
  {
   "cell_type": "markdown",
   "id": "e0316d1c",
   "metadata": {},
   "source": []
  }
 ],
 "metadata": {
  "kernelspec": {
   "display_name": "Python 3 (ipykernel)",
   "language": "python",
   "name": "python3"
  },
  "language_info": {
   "codemirror_mode": {
    "name": "ipython",
    "version": 3
   },
   "file_extension": ".py",
   "mimetype": "text/x-python",
   "name": "python",
   "nbconvert_exporter": "python",
   "pygments_lexer": "ipython3",
   "version": "3.9.6"
  }
 },
 "nbformat": 4,
 "nbformat_minor": 5
}
