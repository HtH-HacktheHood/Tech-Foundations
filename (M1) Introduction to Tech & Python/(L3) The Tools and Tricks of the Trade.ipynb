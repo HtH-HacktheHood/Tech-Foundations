{
 "cells": [
  {
   "cell_type": "markdown",
   "id": "87e89a58",
   "metadata": {},
   "source": [
    "# And Now, The Adventure Begins!"
   ]
  },
  {
   "cell_type": "markdown",
   "id": "2a366634",
   "metadata": {},
   "source": [
    "But first, let's take a closer look at our computers, how they operate, and how those operations influence our society.\n",
    "\n",
    "**Sociotechnical:** \"Rejecting the Binary\" -- **[Part One (Slides 1 - 11)](https://docs.google.com/presentation/d/1isk3YcrRCtAS_o2d3oYTikLBpbTxOFnhg9byAPl6IPQ/edit?usp=sharing)**"
   ]
  },
  {
   "cell_type": "markdown",
   "id": "1a5366a5",
   "metadata": {},
   "source": [
    "using [MS Adventure Begins](https://docs.google.com/presentation/d/11kUBrqbn6Sz5pb9BnZtQUmHA7WtpWHo7i_LPK4-zd9A/edit?copiedFromTrash#slide=id.g9225d40ddc_0_0) for lesson references"
   ]
  },
  {
   "cell_type": "code",
   "execution_count": null,
   "id": "6c5d0fc3",
   "metadata": {},
   "outputs": [],
   "source": []
  }
 ],
 "metadata": {
  "kernelspec": {
   "display_name": "Python 3 (ipykernel)",
   "language": "python",
   "name": "python3"
  },
  "language_info": {
   "codemirror_mode": {
    "name": "ipython",
    "version": 3
   },
   "file_extension": ".py",
   "mimetype": "text/x-python",
   "name": "python",
   "nbconvert_exporter": "python",
   "pygments_lexer": "ipython3",
   "version": "3.9.6"
  }
 },
 "nbformat": 4,
 "nbformat_minor": 5
}
