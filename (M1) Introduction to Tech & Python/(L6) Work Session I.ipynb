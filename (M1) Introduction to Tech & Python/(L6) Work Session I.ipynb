{
 "cells": [
  {
   "cell_type": "markdown",
   "id": "7c260b27",
   "metadata": {},
   "source": [
    "# Kahoot Review Quiz Game\n",
    "\n",
    "Today we will start by having a fun sort of quiz to review the things we have been learning so far about git, github, and the bash terminal. Go to **[Kahoot](https://kahoot.it/)** or download the **Kahoot app** on your phone. Wait for me to give you the code number and we will get started!\n",
    "\n",
    "# Work Session I\n",
    "\n",
    "There are no new topics to be introduced today! Use this time to finish up your Git & Bash tutorial games. Also, if you are in need of any extra assistance, now would be a great time to seek it out from your peers and instructors!\n",
    "\n",
    "# You can do it!"
   ]
  }
 ],
 "metadata": {
  "kernelspec": {
   "display_name": "Python 3 (ipykernel)",
   "language": "python",
   "name": "python3"
  },
  "language_info": {
   "codemirror_mode": {
    "name": "ipython",
    "version": 3
   },
   "file_extension": ".py",
   "mimetype": "text/x-python",
   "name": "python",
   "nbconvert_exporter": "python",
   "pygments_lexer": "ipython3",
   "version": "3.9.6"
  }
 },
 "nbformat": 4,
 "nbformat_minor": 5
}
