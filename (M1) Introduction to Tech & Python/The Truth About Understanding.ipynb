{
 "cells": [
  {
   "cell_type": "markdown",
   "id": "af9e57eb",
   "metadata": {},
   "source": [
    "# The Truth About Understanding"
   ]
  },
  {
   "cell_type": "markdown",
   "id": "67150ea5",
   "metadata": {},
   "source": [
    "<img alt=\"Understanding\" src=\"../images/understanding.jpeg\" height=\"342px\" width=\"100%\">"
   ]
  },
  {
   "cell_type": "markdown",
   "id": "d8753e45",
   "metadata": {},
   "source": [
    "**Computer science and programming are very closely tied to many of the STEAM fields that you may already be aware of, specifically math and science. However, many of the math and science classes you have taken have focused on solving problems rather than understanding them. Generally, you get introduced to a type of problem and then you are told the steps to solve the problem. These are the formulas and scientific methods that we all love to hate. (LOL) If you are like most students, you memorize the steps and formulas, then use them to pass the exam! Although this seems perfectly normal, it actually can prevent you from understanding different mathematic and scientific concepts. If you don’t understand, you won’t be able to generate the steps yourself, or apply them in new situations. As soon as you encounter a problem different from the ones in the book, you are in trouble!**\n",
    "\n",
    "**Here in the Hack the Hood community, we like to think of understanding as a skill, just like playing basketball or playing the guitar. Like these skills and many others, understanding is something that you can increase through practice. The only difference is how you practice; what you practice looks different from learning to play a musical instrument or a sport.**\n",
    "\n",
    "**Understanding concepts such as the ones taught in this program requires you to practice thinking. What that usually means is practicing making connections. For example, you need to take an idea you learn about in this course and practice thinking about how it applies to new situations, and how it connects with other related ideas. This is what you need to do to understand.**"
   ]
  },
  {
   "cell_type": "markdown",
   "id": "343d5d33",
   "metadata": {},
   "source": [
    "<img alt=\"Understanding\" src=\"../images/confused.jpeg\" height=\"342px\" width=\"100%\">"
   ]
  },
  {
   "cell_type": "code",
   "execution_count": null,
   "id": "ea6e2ba5",
   "metadata": {},
   "outputs": [],
   "source": []
  }
 ],
 "metadata": {
  "kernelspec": {
   "display_name": "Python 3 (ipykernel)",
   "language": "python",
   "name": "python3"
  },
  "language_info": {
   "codemirror_mode": {
    "name": "ipython",
    "version": 3
   },
   "file_extension": ".py",
   "mimetype": "text/x-python",
   "name": "python",
   "nbconvert_exporter": "python",
   "pygments_lexer": "ipython3",
   "version": "3.9.6"
  }
 },
 "nbformat": 4,
 "nbformat_minor": 5
}
