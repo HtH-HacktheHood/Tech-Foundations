{
 "cells": [
  {
   "cell_type": "markdown",
   "id": "af9e57eb",
   "metadata": {},
   "source": [
    "# The Truth About Understanding"
   ]
  },
  {
   "cell_type": "markdown",
   "id": "67150ea5",
   "metadata": {},
   "source": [
    "<img alt=\"Understanding\" src=\"../images/understanding.jpeg\" height=\"342px\" width=\"100%\">"
   ]
  },
  {
   "cell_type": "markdown",
   "id": "d8753e45",
   "metadata": {},
   "source": [
    "**Computer science and programming are very closely tied to many of the STEAM fields that you may already be aware of, specifically math and science. However, many of the math and science classes you have taken have "
   ]
  },
  {
   "cell_type": "code",
   "execution_count": null,
   "id": "434b7e7c",
   "metadata": {},
   "outputs": [],
   "source": []
  }
 ],
 "metadata": {
  "kernelspec": {
   "display_name": "Python 3 (ipykernel)",
   "language": "python",
   "name": "python3"
  },
  "language_info": {
   "codemirror_mode": {
    "name": "ipython",
    "version": 3
   },
   "file_extension": ".py",
   "mimetype": "text/x-python",
   "name": "python",
   "nbconvert_exporter": "python",
   "pygments_lexer": "ipython3",
   "version": "3.9.6"
  }
 },
 "nbformat": 4,
 "nbformat_minor": 5
}
