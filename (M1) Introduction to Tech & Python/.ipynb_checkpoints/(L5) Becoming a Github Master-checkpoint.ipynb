{
 "cells": [
  {
   "cell_type": "markdown",
   "id": "9519f929",
   "metadata": {},
   "source": [
    "# How Can You Change Tech?\n",
    "\n",
    "We have talked a bit about how people are all different and how these differences should be taken into account when approach problems and solutions that are based in technology. But how can we as individuals use our uniqueness and our differences to create better technologies?\n",
    "\n",
    "**Sociotechnical:** \"Rejecting the Binary\" -- **[Part Three (Slides 21 - 28)](https://docs.google.com/presentation/d/1isk3YcrRCtAS_o2d3oYTikLBpbTxOFnhg9byAPl6IPQ/edit?usp=sharing)**\n",
    "\n",
    "Every single one of us is unique and we have our own interesting ways of seeing things and processing information. We can capture these unique qualities with the technologies and solutions we create. In fact, it is important that we are considerate of our own personalities and the personalities of those who will interact with your technologies and solutions. "
   ]
  },
  {
   "cell_type": "markdown",
   "id": "582800be",
   "metadata": {},
   "source": [
    "## Basic Git Commands\n",
    "\n",
    "Here is an example of how to initialize a Git repository:\n",
    "\n",
    "```\n",
    "$ git init\n",
    "$ git remote add <remote_name> <remote_url>\n",
    "```\n",
    "\n",
    "And how to make changes and push them to GitHub:\n",
    "\n",
    "```\n",
    "$ git add <your_file_name>\n",
    "$ git commit -m \"<commit message>\"\n",
    "$ git push <remote_name> <branch_name>\n",
    "```\n",
    "\n",
    "* **git init** will initialize a Git repository inside of the current directory. We can prove it was initialized by using ls -a to see hidden files.\n",
    "\n",
    "* **git remote** add origin adds a remote (short for “remote repository”) named origin.\n",
    "\n",
    "* **git add** is like adding our files to a shopping cart. We may not want to check out just yet - this allows us to still make some changes before pushing.\n",
    "\n",
    "* **git commit** makes a commit to our local repository containing our changes. It still won’t be reflected in GitHub!\n",
    "\n",
    "* **git push** sends all of the commits we’ve made to the remote we added. The remote name by default is “origin”, and the branch name by default is “main”.\n",
    "\n",
    "**NOTE: Usually, the remote name is called “origin” and the branch name is called “main”. However, older repositories will have a default branch titled \"master\" as opposed to main. Make sure you pay attention to this as you work with various repos.**"
   ]
  },
  {
   "cell_type": "markdown",
   "id": "fe86215d",
   "metadata": {},
   "source": [
    "## Using Git Clone\n",
    "\n",
    "Another way to initialize a repository is to **clone** an existing one.\n",
    "\n",
    "```\n",
    "$ git clone <remote_url>\n",
    "```\n",
    "\n",
    "**WARNING!!!** If you are not the repository’s owner (or a collaborator), you will not be able to push your changes! Instead, create a new, empty GitHub repository and add it as a remote using different **git remote** commands."
   ]
  },
  {
   "cell_type": "markdown",
   "id": "59c2d805",
   "metadata": {},
   "source": [
    "## Git Debugging\n",
    "\n",
    "There are a few useful commands to get the “lay of the land” and aid in debugging:\n",
    "\n",
    "* **git status** - Run before and/or after adding files\n",
    "* **git log** - shows previous commits\n",
    "* **git reflog** - shows all changes made to the repository (not just commits)\n",
    "* **git diff** - shows diffs in untracked files\n"
   ]
  },
  {
   "cell_type": "markdown",
   "id": "b6861bbb",
   "metadata": {},
   "source": [
    "## gitignore\n",
    "\n",
    "Add a file called .gitignore to specify any files that you don’t want to be tracked. For example, my .gitignore file might include the following contents:\n",
    "\n",
    "```\n",
    "env/\n",
    "__pycache__\n",
    ".DS_STORE\n",
    "```"
   ]
  },
  {
   "cell_type": "markdown",
   "id": "e102deb8",
   "metadata": {},
   "source": [
    "## Practice Using Git: The Git Game\n",
    "\n",
    "Now that we have been introduced to a few of the basic Git workflow commands, let's practice using some of these new terms and commands with another terminal based, game-like activity! **[The Git-Game](https://docs.google.com/document/d/1u6xFG66KshoS7vUpKTlEPUo094WRG7eYVRnoskv0JPQ/edit?usp=sharing)**"
   ]
  }
 ],
 "metadata": {
  "kernelspec": {
   "display_name": "Python 3 (ipykernel)",
   "language": "python",
   "name": "python3"
  },
  "language_info": {
   "codemirror_mode": {
    "name": "ipython",
    "version": 3
   },
   "file_extension": ".py",
   "mimetype": "text/x-python",
   "name": "python",
   "nbconvert_exporter": "python",
   "pygments_lexer": "ipython3",
   "version": "3.9.6"
  }
 },
 "nbformat": 4,
 "nbformat_minor": 5
}
