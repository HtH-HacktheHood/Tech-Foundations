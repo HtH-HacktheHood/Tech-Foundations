{
 "cells": [
  {
   "cell_type": "markdown",
   "id": "af9e57eb",
   "metadata": {},
   "source": [
    "# The Truth About Understanding"
   ]
  },
  {
   "cell_type": "markdown",
   "id": "20daeda0",
   "metadata": {},
   "source": [
    "<img alt=\"Understanding\" src=\"../images/understanding.jpeg\" height=\"342px\">"
   ]
  },
  {
   "cell_type": "markdown",
   "id": "d8753e45",
   "metadata": {},
   "source": [
    "**Computer science and programming are very closely tied to many of the STEAM fields that you may already be aware of, specifically math and science. However, many of the math and science classes you have taken have focused on solving problems rather than understanding them. Generally, you get introduced to a type of problem and then you are told the steps to solve the problem. These are the formulas and scientific methods that we all love to hate. (LOL) If you are like most students, you memorize the steps and formulas, then use them to pass the exam! Although this seems perfectly normal, it actually can prevent you from understanding different mathematic and scientific concepts. If you don’t understand, you won’t be able to generate the steps yourself, or apply them in new situations. As soon as you encounter a problem different from the ones in the book, you are in trouble!**\n",
    "\n",
    "**Here in the Hack the Hood community, we like to think of understanding as a skill, just like playing basketball or playing the guitar. Like these skills and many others, understanding is something that you can increase through practice. The only difference is how you practice; what you practice looks different from learning to play a musical instrument or a sport.**\n",
    "\n",
    "**Understanding concepts such as the ones taught in this program requires you to practice thinking. What that usually means is practicing making connections. For example, you need to take an idea you learn about in this course and practice thinking about how it applies to new situations, and how it connects with other related ideas. This is what you need to do to understand.**"
   ]
  },
  {
   "cell_type": "markdown",
   "id": "5deb5d0d",
   "metadata": {},
   "source": [
    "<img alt=\"Understanding\" src=\"../images/confused.jpeg\" height=\"342px\">"
   ]
  },
  {
   "cell_type": "markdown",
   "id": "9bd813c7",
   "metadata": {},
   "source": [
    "**Here's a cute puppy to remind you that confusion is okay! Just like a musician starts out playing badly and gradually learns to play better, understanding works the same way. When you start trying to understand something that is hard to understand, you will initially be confused. This doesn’t mean you are stupid, it just means you don’t understand yet. Confusion is part of learning and understanding, but we should say something about how to lessen that uncertainty. You don’t want to just stay confused! The answer is: think hard, and don’t give up. Instead of thinking, “I can’t do this,” try just sticking with it, and be patient. Your understanding will grow, understanding takes time.** \n",
    "\n",
    "**Some concepts that underlie computer science are not things you understand in an instant, but things that will continue to develop over weeks, months, and even years. No one expects to become an expert tennis player all at once—it can take years of practice. But many people think that understanding is something that happens in an instant—Eureka! As it turns out, that’s not true, at least for most things. So enjoy the process, be patient, don’t hurry. Now that we are starting to understand each other, let's set some community norms for our time together!**"
   ]
  },
  {
   "cell_type": "markdown",
   "id": "07ce94f3",
   "metadata": {},
   "source": [
    "# Setting Community Norms\n",
    "\n",
    "**[HtH Community Norms Activity](https://docs.google.com/document/d/1cbVqudGAq08OSt0iVchtZx7oufYLIU1ObnoofmXyAD0/edit?usp=sharing)**"
   ]
  },
  {
   "cell_type": "markdown",
   "id": "78d1a4bc",
   "metadata": {},
   "source": [
    "# Understanding Sociotechnical Issues\n",
    "\n",
    "**[What is sociotechnical?](https://docs.google.com/presentation/d/1Pidva-FgVza6MkG6llj9Ux3RSVAWvJZcNY4Jba2lhE4/edit?usp=sharing)**"
   ]
  }
 ],
 "metadata": {
  "kernelspec": {
   "display_name": "Python 3 (ipykernel)",
   "language": "python",
   "name": "python3"
  },
  "language_info": {
   "codemirror_mode": {
    "name": "ipython",
    "version": 3
   },
   "file_extension": ".py",
   "mimetype": "text/x-python",
   "name": "python",
   "nbconvert_exporter": "python",
   "pygments_lexer": "ipython3",
   "version": "3.9.6"
  }
 },
 "nbformat": 4,
 "nbformat_minor": 5
}
