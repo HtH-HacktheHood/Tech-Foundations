{
 "cells": [
  {
   "cell_type": "markdown",
   "id": "1b343e13",
   "metadata": {},
   "source": [
    "# Technology & Software Explained"
   ]
  },
  {
   "cell_type": "markdown",
   "id": "ad4b0456",
   "metadata": {},
   "source": [
    "## Before we get started today, let's take some time to play a little game!"
   ]
  },
  {
   "cell_type": "markdown",
   "id": "46625a37",
   "metadata": {},
   "source": [
    "**[Quizzizz: Computer Science Intro](https://quizizz.com/admin/quiz/5f5f23bb3a1c4c001bc7c4d9/g9-diagnostic-test-computer-science)**"
   ]
  },
  {
   "cell_type": "markdown",
   "id": "7455d9a0",
   "metadata": {},
   "source": [
    "<img alt=\"Understanding\" src=\"../images/hth-software.png\" height=\"342px\" img>"
   ]
  },
  {
   "cell_type": "code",
   "execution_count": 1,
   "id": "54ef9305",
   "metadata": {},
   "outputs": [
    {
     "data": {
      "text/html": [
       "\n",
       "        <iframe\n",
       "            width=\"400\"\n",
       "            height=\"300\"\n",
       "            src=\"https://www.youtube.com/embed/WkFSKuLSQD4\"\n",
       "            frameborder=\"0\"\n",
       "            allowfullscreen\n",
       "        ></iframe>\n",
       "        "
      ],
      "text/plain": [
       "<IPython.lib.display.YouTubeVideo at 0x1054346a0>"
      ]
     },
     "execution_count": 1,
     "metadata": {},
     "output_type": "execute_result"
    }
   ],
   "source": [
    "from IPython.display import YouTubeVideo\n",
    "\n",
    "# Let's first hear about the most common sort of jobs you hear people mention when they talk about the software industry\n",
    "\n",
    "YouTubeVideo('WkFSKuLSQD4')"
   ]
  },
  {
   "cell_type": "markdown",
   "id": "aca1f870",
   "metadata": {},
   "source": [
    "**[Bukola: 5 In Demand Software Engineer Roles Explained](https://www.youtube.com/watch?v=WkFSKuLSQD4)**"
   ]
  },
  {
   "cell_type": "code",
   "execution_count": 2,
   "id": "6ec0125d",
   "metadata": {
    "scrolled": true
   },
   "outputs": [
    {
     "data": {
      "text/html": [
       "\n",
       "        <iframe\n",
       "            width=\"400\"\n",
       "            height=\"300\"\n",
       "            src=\"https://www.youtube.com/embed/0_fuiK3b9OA\"\n",
       "            frameborder=\"0\"\n",
       "            allowfullscreen\n",
       "        ></iframe>\n",
       "        "
      ],
      "text/plain": [
       "<IPython.lib.display.YouTubeVideo at 0x10550baf0>"
      ]
     },
     "execution_count": 2,
     "metadata": {},
     "output_type": "execute_result"
    }
   ],
   "source": [
    "# Don't let the coding intimidate you! There are other sorts of roles in the industry that aren't so programming focused!\n",
    "\n",
    "YouTubeVideo('0_fuiK3b9OA')"
   ]
  },
  {
   "cell_type": "markdown",
   "id": "049570cb",
   "metadata": {},
   "source": [
    "**[Bukola: In Demand Tech Jobs for 2021 Explained (no coding)](http://www.youtube.com/watch?v=0_fuiK3b9OA)**"
   ]
  },
  {
   "cell_type": "code",
   "execution_count": 3,
   "id": "70e1fd3e",
   "metadata": {
    "scrolled": true
   },
   "outputs": [
    {
     "data": {
      "text/html": [
       "\n",
       "        <iframe\n",
       "            width=\"400\"\n",
       "            height=\"300\"\n",
       "            src=\"https://www.youtube.com/embed/drhN95Fgcdw\"\n",
       "            frameborder=\"0\"\n",
       "            allowfullscreen\n",
       "        ></iframe>\n",
       "        "
      ],
      "text/plain": [
       "<IPython.lib.display.YouTubeVideo at 0x10549af70>"
      ]
     },
     "execution_count": 3,
     "metadata": {},
     "output_type": "execute_result"
    }
   ],
   "source": [
    "# Think you want to learn about some tech skills that are a bit newer and more specialized?\n",
    "\n",
    "YouTubeVideo('drhN95Fgcdw')"
   ]
  },
  {
   "cell_type": "markdown",
   "id": "bd685bdc",
   "metadata": {},
   "source": [
    "**[Bukola: In Demand Software Engineer Roles for 2021 Explained](http://www.youtube.com/watch?v=drhN95Fgcdw)**"
   ]
  },
  {
   "cell_type": "markdown",
   "id": "4f50c4f6",
   "metadata": {},
   "source": [
    "<img alt=\"Understanding\" src=\"../images/interest.png\" height=\"342px\" img>"
   ]
  },
  {
   "cell_type": "markdown",
   "id": "8b7fdb23",
   "metadata": {},
   "source": [
    "## Now that we know more about each other's interest, let's do a group research activity!"
   ]
  },
  {
   "cell_type": "markdown",
   "id": "a4ad66cc",
   "metadata": {},
   "source": [
    "**[Researching Your Career Interest!](https://docs.google.com/document/d/1WGQQL_viwHmGucSaAt36F9sognnf1rOkqoBbvLdVte0/edit?usp=sharing)**"
   ]
  }
 ],
 "metadata": {
  "kernelspec": {
   "display_name": "Python 3 (ipykernel)",
   "language": "python",
   "name": "python3"
  },
  "language_info": {
   "codemirror_mode": {
    "name": "ipython",
    "version": 3
   },
   "file_extension": ".py",
   "mimetype": "text/x-python",
   "name": "python",
   "nbconvert_exporter": "python",
   "pygments_lexer": "ipython3",
   "version": "3.9.6"
  }
 },
 "nbformat": 4,
 "nbformat_minor": 5
}
