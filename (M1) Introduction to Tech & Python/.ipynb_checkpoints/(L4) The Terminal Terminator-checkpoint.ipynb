{
 "cells": [
  {
   "cell_type": "markdown",
   "id": "9519f929",
   "metadata": {},
   "source": [
    "# Evaluating Our Tech"
   ]
  },
  {
   "cell_type": "markdown",
   "id": "e28eb3f7",
   "metadata": {},
   "source": [
    "First, let's discuss what it means to use these tools and various others in the industry to ensure we are creating **inclusive** technology.\n",
    "\n",
    "**Sociotechnical:** \"Rejecting the Binary\" -- **[Part One (Slides 12 - 20)](https://docs.google.com/presentation/d/1isk3YcrRCtAS_o2d3oYTikLBpbTxOFnhg9byAPl6IPQ/edit?usp=sharing)**"
   ]
  },
  {
   "cell_type": "markdown",
   "id": "c767fa51",
   "metadata": {},
   "source": [
    "While we are learning to use these new technical and problem-solving skills, it is important to remember that how we use those skills does affect others. We must be sure we are being conscious of the world around us as we look to use tech to express ourselves and improve our communities."
   ]
  },
  {
   "cell_type": "markdown",
   "id": "582800be",
   "metadata": {},
   "source": [
    "## Computers: The Terminal"
   ]
  },
  {
   "cell_type": "markdown",
   "id": "a16f05eb",
   "metadata": {},
   "source": [
    "As mentioned perviously, terminals are also known as **command lines** or **consoles**. When using a terminal one can send simple text commands to a computer to do things like navigate through a directory or copy a file, and is the foundation of many other complex processes. The most common use of the command line is what's called **system administration** which is, in Layman's terms, managing computers and servers. This includes installing and configuring software, monitoring computer resources, setting up web servers, and automating processes. Here's a list of terminal commands you may find yourself using pretty regularly:\n",
    "\n",
    "Command | Description\n",
    "-- | --\n",
    "cd | Change directory.\n",
    "ls | List files and directories in current directory.\n",
    "pwd | Display the path of the current directory.\n",
    "touch | Create a file.\n",
    "mkdir | Create a directory.\n",
    "rm | Remove a file or directory permanently)\n",
    "cp | Copy a file or directory.\n",
    "mv | Move or rename a file or directory.\n",
    "echo | Print text to STDOUT.\n",
    "cat | Display contents of a file.\n",
    "more | Display contents of a file, starting at the top and letting the user scroll down.\n",
    "less | Display contents of a file in an even more interactive way.\n",
    "head | Display the first part of a file.\n",
    "tail | Display the last part of a file.\n",
    "man | Display documentation about a command.\n"
   ]
  },
  {
   "cell_type": "markdown",
   "id": "fe86215d",
   "metadata": {},
   "source": [
    "**Here is a list of more console commands**: [Terminal Cheatsheet](https://gist.github.com/poopsplat/7195274)\n",
    "\n",
    "**Want to know just how powerful the terminal really is?**: [Terminal Further Explained & Resources](https://www.vikingcodeschool.com/web-development-basics/a-command-line-crash-course)"
   ]
  },
  {
   "cell_type": "markdown",
   "id": "59c2d805",
   "metadata": {},
   "source": [
    "## It's Game Time: Bashcrawl"
   ]
  },
  {
   "cell_type": "markdown",
   "id": "b6861bbb",
   "metadata": {},
   "source": [
    "**Bashcrawl** is a Bash-based dungeon crawl you play by learning and using Bash commands. In Bashcrawl, a \"dungeon\" is created in the form of directories and files on your computer. You explore the dungeon by using the cd command to change directory into each room of the dungeon. As you proceed through directories, you examine files with ls -F, read files with cat, set variables to collect treasure, and run scripts to fight monsters. Everything you do in the game is a valid Bash command that you can use later in real life, and playing the game provides Bash practice because the \"game\" is made out of actual directories and files on your computer.\n",
    "\n",
    "Let's play Bashcrawl to gain some practice using the terminal!\n",
    "\n",
    "**[Bashcrawl Terminal Tutorial Game](https://docs.google.com/document/d/1ATvRUG6sxsRSLUxh0mNM5SUwW7CBCjSqSWe9qSXncSM/edit?usp=sharing)**\n",
    "\n",
    "**[Have you master Bashcrawl already? Check out this link for some more terminal challenges!](https://opensource.com/article/19/10/learn-bash-command-line-games)**"
   ]
  }
 ],
 "metadata": {
  "kernelspec": {
   "display_name": "Python 3 (ipykernel)",
   "language": "python",
   "name": "python3"
  },
  "language_info": {
   "codemirror_mode": {
    "name": "ipython",
    "version": 3
   },
   "file_extension": ".py",
   "mimetype": "text/x-python",
   "name": "python",
   "nbconvert_exporter": "python",
   "pygments_lexer": "ipython3",
   "version": "3.9.6"
  }
 },
 "nbformat": 4,
 "nbformat_minor": 5
}
