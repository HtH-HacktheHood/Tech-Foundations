{
 "cells": [
  {
   "cell_type": "markdown",
   "id": "1b343e13",
   "metadata": {},
   "source": [
    "# Technology & Software Explained"
   ]
  },
  {
   "cell_type": "markdown",
   "id": "d965bfb8",
   "metadata": {},
   "source": [
    "## Before we get started today, let's take some time to play a little game!"
   ]
  },
  {
   "cell_type": "markdown",
   "id": "498961ff",
   "metadata": {},
   "source": [
    "**[Quizzizz: Computer Science Intro](https://quizizz.com/admin/quiz/5f5f23bb3a1c4c001bc7c4d9/g9-diagnostic-test-computer-science)**"
   ]
  },
  {
   "cell_type": "markdown",
   "id": "7455d9a0",
   "metadata": {},
   "source": [
    "<img alt=\"Understanding\" src=\"../images/hth-software.png\" height=\"342px\" img>"
   ]
  },
  {
   "cell_type": "code",
   "execution_count": 1,
   "id": "54ef9305",
   "metadata": {},
   "outputs": [
    {
     "data": {
      "text/html": [
       "\n",
       "        <iframe\n",
       "            width=\"400\"\n",
       "            height=\"300\"\n",
       "            src=\"https://www.youtube.com/embed/WkFSKuLSQD4\"\n",
       "            frameborder=\"0\"\n",
       "            allowfullscreen\n",
       "        ></iframe>\n",
       "        "
      ],
      "text/plain": [
       "<IPython.lib.display.YouTubeVideo at 0x10a31ffd0>"
      ]
     },
     "execution_count": 1,
     "metadata": {},
     "output_type": "execute_result"
    }
   ],
   "source": [
    "from IPython.display import YouTubeVideo\n",
    "\n",
    "# Let's first hear about the most common sort of jobs you hear people mention when they talk about the software industry\n",
    "\n",
    "YouTubeVideo('WkFSKuLSQD4')"
   ]
  },
  {
   "cell_type": "markdown",
   "id": "b6302f50",
   "metadata": {},
   "source": [
    "<a href=\"http://www.youtube.com/watch?v=WkFSKuLSQD4\"><img src=\"../images/bukola1.png\" \n",
    "alt=\"Bukola 1\" height=\"342\"/></a>"
   ]
  },
  {
   "cell_type": "code",
   "execution_count": 2,
   "id": "6ec0125d",
   "metadata": {
    "scrolled": true
   },
   "outputs": [
    {
     "data": {
      "text/html": [
       "\n",
       "        <iframe\n",
       "            width=\"400\"\n",
       "            height=\"300\"\n",
       "            src=\"https://www.youtube.com/embed/0_fuiK3b9OA\"\n",
       "            frameborder=\"0\"\n",
       "            allowfullscreen\n",
       "        ></iframe>\n",
       "        "
      ],
      "text/plain": [
       "<IPython.lib.display.YouTubeVideo at 0x10a33f250>"
      ]
     },
     "execution_count": 2,
     "metadata": {},
     "output_type": "execute_result"
    }
   ],
   "source": [
    "# Don't let the coding intimidate you! There are other sorts of roles in the industry that aren't so programming focused!\n",
    "\n",
    "YouTubeVideo('0_fuiK3b9OA')"
   ]
  },
  {
   "cell_type": "markdown",
   "id": "9fc24e22",
   "metadata": {},
   "source": [
    "<a href=\"http://www.youtube.com/watch?v=0_fuiK3b9OA\"><img src=\"../images/bukola2.png\" \n",
    "alt=\"Bukola 2\" height=\"342\"/></a>"
   ]
  },
  {
   "cell_type": "code",
   "execution_count": 3,
   "id": "84be431f",
   "metadata": {
    "scrolled": true
   },
   "outputs": [
    {
     "data": {
      "text/html": [
       "\n",
       "        <iframe\n",
       "            width=\"400\"\n",
       "            height=\"300\"\n",
       "            src=\"https://www.youtube.com/embed/drhN95Fgcdw\"\n",
       "            frameborder=\"0\"\n",
       "            allowfullscreen\n",
       "        ></iframe>\n",
       "        "
      ],
      "text/plain": [
       "<IPython.lib.display.YouTubeVideo at 0x10a33fa90>"
      ]
     },
     "execution_count": 3,
     "metadata": {},
     "output_type": "execute_result"
    }
   ],
   "source": [
    "# Think you want to learn about some tech skills that are a bit newer and more specialized?\n",
    "\n",
    "YouTubeVideo('drhN95Fgcdw')"
   ]
  },
  {
   "cell_type": "markdown",
   "id": "f4767777",
   "metadata": {},
   "source": [
    "<a href=\"http://www.youtube.com/watch?v=drhN95Fgcdw\"><img src=\"../images/bukola3.png\" \n",
    "alt=\"Bukola 3\" height=\"342\"/></a>"
   ]
  }
 ],
 "metadata": {
  "kernelspec": {
   "display_name": "Python 3 (ipykernel)",
   "language": "python",
   "name": "python3"
  },
  "language_info": {
   "codemirror_mode": {
    "name": "ipython",
    "version": 3
   },
   "file_extension": ".py",
   "mimetype": "text/x-python",
   "name": "python",
   "nbconvert_exporter": "python",
   "pygments_lexer": "ipython3",
   "version": "3.9.6"
  }
 },
 "nbformat": 4,
 "nbformat_minor": 5
}
