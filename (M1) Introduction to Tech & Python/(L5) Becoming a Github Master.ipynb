{
 "cells": [
  {
   "cell_type": "markdown",
   "id": "9519f929",
   "metadata": {},
   "source": [
    "# How Can You Change Tech?"
   ]
  },
  {
   "cell_type": "markdown",
   "id": "e28eb3f7",
   "metadata": {},
   "source": [
    "We have talked a bit about how people are all different and how these differences should be taken into account when approach problems and solutions that are based in technology. But how can we as individuals use our uniqueness and our differences to create better technologies?\n",
    "\n",
    "**Sociotechnical:** \"Rejecting the Binary\" -- **[Part Three (Slides 21 - 28)](https://docs.google.com/presentation/d/1isk3YcrRCtAS_o2d3oYTikLBpbTxOFnhg9byAPl6IPQ/edit?usp=sharing)**"
   ]
  },
  {
   "cell_type": "markdown",
   "id": "c767fa51",
   "metadata": {},
   "source": [
    "Every single one of us is unique and we have our own interesting ways of seeing things and processing information. We can capture these unique qualities with the technologies and solutions we create. In fact, it is important that we are considerate of our own personalities and the personalities of those who will interact with your technologies and solutions. "
   ]
  },
  {
   "cell_type": "markdown",
   "id": "582800be",
   "metadata": {},
   "source": [
    "## Learning Github"
   ]
  },
  {
   "cell_type": "markdown",
   "id": "a16f05eb",
   "metadata": {},
   "source": []
  },
  {
   "cell_type": "markdown",
   "id": "fe86215d",
   "metadata": {},
   "source": []
  },
  {
   "cell_type": "markdown",
   "id": "59c2d805",
   "metadata": {},
   "source": []
  },
  {
   "cell_type": "markdown",
   "id": "b6861bbb",
   "metadata": {},
   "source": []
  }
 ],
 "metadata": {
  "kernelspec": {
   "display_name": "Python 3 (ipykernel)",
   "language": "python",
   "name": "python3"
  },
  "language_info": {
   "codemirror_mode": {
    "name": "ipython",
    "version": 3
   },
   "file_extension": ".py",
   "mimetype": "text/x-python",
   "name": "python",
   "nbconvert_exporter": "python",
   "pygments_lexer": "ipython3",
   "version": "3.9.6"
  }
 },
 "nbformat": 4,
 "nbformat_minor": 5
}
