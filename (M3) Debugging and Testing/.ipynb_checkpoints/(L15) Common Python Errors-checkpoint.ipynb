{
 "cells": [
  {
   "cell_type": "markdown",
   "id": "b571f708-fc13-4b45-96c3-59d28a06df59",
   "metadata": {},
   "source": [
    "# Collecting Data to Make Change\n",
    "\n",
    "We have been talking a good bit about how data and information is used and how those uses affect our daily lives. Now let's talk about how we can take control and begin gathering data and information for ourselves!\n",
    "\n",
    "**Sociotechnical:** \"Data-Driven Change Advocacy\" -- **[Part Two (Slides 15 - 28)](https://docs.google.com/presentation/d/1OYrdU-hzAMnhKguJdF_NV0iVIC5DUyA4Bc4jONCQxZ8/edit?usp=sharing)**\n",
    "\n",
    "# Python Error Handling\n",
    "\n",
    "Think back on the last few weeks you spent doing this program. Has there been a time where you tried to run some code and your terminal gave you a weird looking message? Some the maybe looks like this:"
   ]
  },
  {
   "cell_type": "code",
   "execution_count": 1,
   "id": "bdde4388-e341-40d7-9ef9-443e40ac3c8c",
   "metadata": {},
   "outputs": [
    {
     "ename": "Exception",
     "evalue": "The error message goes here",
     "output_type": "error",
     "traceback": [
      "\u001b[0;31m---------------------------------------------------------------------------\u001b[0m",
      "\u001b[0;31mException\u001b[0m                                 Traceback (most recent call last)",
      "\u001b[0;32m/var/folders/86/zrq2dzkd3t7bckvymt2y918h0000gp/T/ipykernel_67739/2945994187.py\u001b[0m in \u001b[0;36m<module>\u001b[0;34m\u001b[0m\n\u001b[0;32m----> 1\u001b[0;31m \u001b[0;32mraise\u001b[0m \u001b[0mException\u001b[0m\u001b[0;34m(\u001b[0m\u001b[0;34m\"The error message goes here\"\u001b[0m\u001b[0;34m)\u001b[0m\u001b[0;34m\u001b[0m\u001b[0;34m\u001b[0m\u001b[0m\n\u001b[0m",
      "\u001b[0;31mException\u001b[0m: The error message goes here"
     ]
    }
   ],
   "source": [
    "raise Exception(\"The error message goes here\")"
   ]
  },
  {
   "cell_type": "markdown",
   "id": "ec2a8916-e26d-418e-900e-d651f2334e5a",
   "metadata": {},
   "source": [
    "Well that *funky message* I mention earlier and that looks similar to this is actually called a **traceback**. The traceback includes the **error message** , the **line number** of the line that caused the error, and the sequence of the function calls that led to the error. This sequence of calls is called the **call stack**. This traceback will actually become quite useful to you as you begin trying to fix errors!\n",
    "\n",
    "**Exceptions**, like the one we coded above, are raised when the program encounters an error during its execution. They disrupt the normal flow of the program and usually end it abruptly. However, you probably won't be seeing the word \"Exception\" very often. Usually you will see the name of the type of error that has caused your code to raise an exception.\n",
    "Here are all the different type of errors you may encouter:\n",
    "\n",
    "**Exception Name** | **Description**\n",
    "-------------------|----------------\n",
    "BaseException | This is the root exception for all others\n",
    "GeneratorExit | Raised by close() method of generators for terminating iteration\n",
    "KeyboardInterrupt | Raised by the interrupt key\n",
    "SystemExit | Program exit\n",
    "Exception | Root for all non-exiting exceptions\n",
    "StopIteration | Raised to stop an iteration action\n",
    "StandardError | Base class for all built-in exceptions\n",
    "ArithmeticError | Base for all arithmetic exceptions\n",
    "FloatingPointError | Raised when a floating-point operation fails\n",
    "OverflowError | Arithmetic operations that are too large\n",
    "ZeroDivisionError | Division or modulo operation with zero as divisor\n",
    "AssertionError | Raised when an assert statement fails\n",
    "AttributeError | Attribute reference or assignment failure\n",
    "EnvironmentError | An error occurred outside of Python\n",
    "IOError | Error in Input/Output operation\n",
    "OSError | An error occurred in the os module\n",
    "EOFError | input() or raw_input() tried to read past the end of a file\n",
    "ImportError | Import failed to find module or name\n",
    "LookupError | Base class for IndexError and KeyError\n",
    "IndexError | A sequence index goes out of range\n",
    "KeyError | Referenced a non-existent mapping (dict) key\n",
    "MemoryError | Memory exhausted\n",
    "NameError | Failure to find a local or global name\n",
    "UnboundLocalError | Unassigned local variable is referenced\n",
    "ReferenceError | Attempt to access a garbage-collected object\n",
    "RuntimeError | Obsolete catch-all error\n",
    "NotImplementedError | Raised when a feature is not implemented\n",
    "SyntaxError | Parser encountered a syntax error\n",
    "IndentationError | Parser encountered an indentation issue\n",
    "TabError | Incorrect mixture of tabs and spaces\n",
    "SystemError | Non-fatal interpreter error\n",
    "TypeError |Inappropriate type was passed to an operator or function\n",
    "ValueError | Argument error not covered by TypeError or a more precise error\n",
    "Warning | Base for all warnings"
   ]
  },
  {
   "cell_type": "markdown",
   "id": "77803c93-fb06-46a8-8830-4130a96c95b7",
   "metadata": {},
   "source": [
    "Now while this is a very long list, don't fret! You don't have to worry about memorizing things like this. In fact, you will probably encounter a select group of these much more than you do the others. Errors such as the **KeyError**, **IndexError**, **NameError**, **SyntaxError**, and **TypeError** will probably occur more frequently, but this does depend on your type of work. \n",
    "\n",
    "Even so, however long this list may be, we can actually group these errors into three main categories to help us understand them a bit more\n",
    "\n",
    "### Python Error Types\n",
    "\n",
    "**Syntax Errors** are caused by not following the proper syntax of the language. They are usually caused by typos. These sorts of errors are often identified by the code editor before the code is even ran. With our code editor VS Code for example, syntax errors are pointed out to developers using either an orange or red squiggly line underneath wherever the syntax error has occured. However if you do run the code, you will see something like the following:\n",
    "\n",
    "<img alt=\"Debugging and Testing\" src=\"../images/syntax.png\" height=\"342px\" width=\"100%\">\n",
    "<br>\n",
    "\n",
    "**Logical Errors** are the most difficult to spot and fix, because they don't throw an error at all; they just simply don't give the output you are expecting. These and runtime errors are the things that are most commonly referred to as **bugs**. It's actually a fitting name, because some bugs are hard to find and can be quite annoying, even dangerous sometimes. That is just the same with these sort of errors in your code. For example, let's say we have a grading system like the following:"
   ]
  },
  {
   "cell_type": "code",
   "execution_count": null,
   "id": "44b04e92-9cd9-488d-bcdd-3a057277c121",
   "metadata": {},
   "outputs": [],
   "source": [
    "# lets set our score equal to 84 and see what result we get. We should get the expected output \"B\" because 84 is greater than 80\n",
    "\n",
    "score = 84\n",
    "\n",
    "if score > 70:\n",
    "    print(\"C\")\n",
    "elif score > 80:\n",
    "    print(\"B\")\n",
    "elif score > 90:\n",
    "    print(\"A\")\n",
    "else:\n",
    "    print(\"Tough luck.\")"
   ]
  },
  {
   "cell_type": "markdown",
   "id": "5fe4ca84-b778-4d1b-842d-a4bd77816964",
   "metadata": {},
   "source": [
    "Based on the logic above, we should have gotten a B right? But instead we got a C. This is an example of a logical error.\n",
    "\n",
    "**Runtime Errors** are errors that are not detected until run time, which is when you try to actually run a program or file. These can be tricky to find also, because they are not caused by any sort of SyntaxError,so they aren't pointed out by the editor. Thankfully though, by understanding the pieces of the traceback when we are unable to move forward with an operation, we can try to locate and fix these sort of errors. A simple example of a runtime error would be trying to divide by 0:"
   ]
  },
  {
   "cell_type": "code",
   "execution_count": null,
   "id": "dc9993df-a3c9-4ebc-8d83-d1885726f914",
   "metadata": {},
   "outputs": [],
   "source": [
    "18/0"
   ]
  },
  {
   "cell_type": "markdown",
   "id": "0c1461c3-ac9b-4139-85ee-f89697e0c14c",
   "metadata": {},
   "source": [
    "Maybe you noticed that this type of error exception was on the above list! This is when the various parts of the traceback come in handy. The error message tells us that we are trying to divide by zero so that must be a bad thing to do. The line number tells us that it happened on the first line of our code block, so we know exactly where to go to fix it. However, we don't have a call stack here, because we didn't call any function above. Let's see what another error looks like with a call stack:"
   ]
  },
  {
   "cell_type": "code",
   "execution_count": null,
   "id": "d13595cf-3257-4925-84b1-df2ef72160ab",
   "metadata": {},
   "outputs": [],
   "source": [
    "def compute_get_index(index, arr):\n",
    "    \"\"\"\n",
    "    Do something to some list of stuff, blah blah blah\n",
    "    \"\"\"\n",
    "    return arr[index]\n",
    "\n",
    "compute_get_index(8, [3,2,9])"
   ]
  },
  {
   "cell_type": "markdown",
   "id": "06df5782-252d-49ef-b68e-6fb61e3cd2c4",
   "metadata": {},
   "source": [
    "Now since we called a function, we can see that line 7 is where the original function call is made. Our call stack is then showing us the contents of that function and what line within the function is causing the exception. In this case it is line 5.\n",
    "\n",
    "# Let's Practice Some Error Handling"
   ]
  },
  {
   "cell_type": "code",
   "execution_count": null,
   "id": "a663b1e6-90f8-4506-a19e-8cbb893adf66",
   "metadata": {},
   "outputs": [],
   "source": [
    "\"\"\"\n",
    "We're writing a program that adds two numbers together. \n",
    "Test this and solve any errors you find if you can. \n",
    "Solving one problem might turn up a new error...\n",
    "Be sure to keep a note of whatever errors you find!\n",
    "\"\"\"\n",
    "\n",
    "\n",
    "prin(\"Welcome to the addition helper)\n",
    "number1 = input(\"Please enter the first number:\" )\n",
    "number2 = input(\"Please enter the second number: \")\n",
    "\n",
    "print(\"The result is: \", number1 + number_2)"
   ]
  }
 ],
 "metadata": {
  "kernelspec": {
   "display_name": "Python 3 (ipykernel)",
   "language": "python",
   "name": "python3"
  },
  "language_info": {
   "codemirror_mode": {
    "name": "ipython",
    "version": 3
   },
   "file_extension": ".py",
   "mimetype": "text/x-python",
   "name": "python",
   "nbconvert_exporter": "python",
   "pygments_lexer": "ipython3",
   "version": "3.9.6"
  }
 },
 "nbformat": 4,
 "nbformat_minor": 5
}
