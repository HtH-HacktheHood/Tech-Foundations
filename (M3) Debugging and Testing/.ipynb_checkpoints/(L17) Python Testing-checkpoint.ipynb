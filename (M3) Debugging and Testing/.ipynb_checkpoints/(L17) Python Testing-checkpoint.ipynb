{
 "cells": [
  {
   "cell_type": "markdown",
   "id": "309b0856-b89b-4d0c-9976-66293b3dfbb2",
   "metadata": {},
   "source": [
    "# Watched but Unseen\n",
    "\n",
    "We have been talking recently about ways that we can use data collection to help drive positive change with the technologies we create. Now, let's look at how data is being collected and used in the industry today that can sometimes have negative effects on our society\n",
    "\n",
    "**Sociotechnical:** \"Watched but Unseen\" -- **[Part One (Slides 1 - 16)](https://docs.google.com/presentation/d/1jEAqqpBkENgsse2sDhgxef_wNo-xh9yftJA51GMH05s/edit?usp=sharing)**\n",
    "\n",
    "# Python Testing\n",
    "\n",
    "A lot of people don't understand or appreciate the role of testing and think of it more as a hassle. Many developers think that since they would be running and testing their code manually as part of writing it, then they should not have to spend time actually writing the test. Now there is some truth in this line of thinking. Coding does often require alternating between writing and running code to verify it works as expected. However, what about cases where you will not be coding from scratch? Times when you will be adding to or modifying an existing codebase? How can you ensure that the new code isn't breaking other parts of the code? \n",
    "\n",
    "Bugs that appear in old code that are triggered by new changes are called **regressions**. As your gain more experience and your projects get larger, testing for regressions becomes more and more time consuming. You should think of testing as an insurance policy on code to protect against regressions in the future. Tests are easy to run, so they can be executed every time the project changes and you can be sure that new code doesn't crash your application. Tests can also help to verify that the new code performs as expected. For example, if you wrote a piece of code that calls a third-party API to get some data, you are likely going to manually test this very well. Yet, how does this code handle an error due to the third-party service being down, for example? This is harder to simulate when running the application for real, but it is easier to do in with tests.\n",
    "\n",
    "Testing in Python is a huge topic and can come with a lot of complexity, but it doesn’t need to be hard. You can get started creating simple tests for your application in a few easy steps and then build on it from there. In fact, you have already done your own sort of testing as well. As mentioned earlier, when you run your code to check and see if you get the expected response, this is a form of testing. It is called **exploratory testing**. The type of testing that includes writing tests for your application is known as **automated testing**.\n",
    "\n",
    "### Types of Automated Testing\n",
    "\n",
    "There are three main types of automated test that are used within the software industry: **Unit Testing**, **Integration Testing**, and **Functional Testing**.\n",
    "\n",
    "1. A unit test is a smaller test, one that checks if a single component operates in the right way. This component could be something like a function call, a loop statement, or any piece of code that performs a particular task. A unit test helps you to isolate what is broken in your application and fix it faster.\n",
    "2. An integration test is  a type of test where individual components are integrated logically and tested as a group. A typical industry level software project consists of multiple software modules, coded by different teams of programmers. These test are meant to expose any bugs that may occur when multiple modules interact.\n",
    "3. Functional tests evaluate the features or functions of your project end-to-end to make sure they work as expected. These are the final test performed before the product hits production to ensure quality and consistency.\n",
    "\n",
    "These three testing types have different scopes, with unit tests focusing on a specific part of the system, functional tests focusing on the system as a whole, and integration tests somewhere in the between the other two. Let's think about having to repair a car as an example:\n",
    "* A unit test would be checking to see if the turning signals work. \n",
    "* An integration check would be checking if your car's air conditioning and heating are working\n",
    "* A functional test would be trying to start the car and take it from a test drive\n",
    "\n",
    "In general you will want to test as much of your code as possible with unit tests, as these are easier to write and faster to run. With this in mind, we will focus primarily on unit testing. \n",
    "\n",
    "### Unit Testing\n",
    "\n",
    "So how do we properly put together a unit test? Well there are three key things to consider when creating tests for your code:\n",
    "1. Object-Orientation: using classes as instances of the unittest package to structure and organize the unit tests.\n",
    "2. The assert statement from Python will be used to write assertions. \n",
    "3. The PyTest test runner will be used to run the tests. This test runner has full support for the TestCase class from the unittest package. The pytest package also includes some enhancements to the assert statement to provide more verbose output when there is a failure.\n",
    "\n",
    "The **unittest** package has been built into the Python standard library for a long time. It contains both a testing framework and a test runner. However, unittest has an important requirement for writing and executing tests: You have to put your tests into classes as methods.\n",
    "\n",
    "We have talked briefly about certain Python built-in classes before when we discussed each of the data types. For example, the append( ) method we use to add something to a list is a method of the list class. **Classes** are not difficult to understand; think of them as a user-defined blueprint or prototype for creating custom objects. Remember all the data types that are built into Python are objects which is why they each have their own class. Creating a new class creates a new type of object, allowing new instances of that data type to be made. Each class instance can have **attributes** (local variables) and **methods** (local functions).\n",
    "\n",
    "For example, let’s say you wanted to track the number of dogs in an adoption shelter. You would want to know each dog's name, breed, birthday, age, and lots of other information if you wanted the data to be as useful as possible. Using a Dog class is a great way to organize this type of data. We can easily check or add properties to our Dogs. If we use other data types, how would you we know which element is supposed to be which? This lacks organization and can become harder to understand for other programmers.\n",
    "\n",
    "Here is a basic example of what a dog class may look like:"
   ]
  },
  {
   "cell_type": "code",
   "execution_count": 2,
   "id": "4c9a6aa7-10d9-42f7-adbc-bd0b88848c33",
   "metadata": {},
   "outputs": [],
   "source": [
    "class Dog:\n",
    "\n",
    "    def __init__(self, name, age, breed):  \n",
    "        self.name = name\n",
    "        self.age = age\n",
    "        self.breed = breed\n",
    "\n",
    "    def bark(self):\n",
    "        print(\"bark bark!\")\n",
    "        \n",
    "# and here is an example of a unittest class\n",
    "import unittest\n",
    "\n",
    "class TestSum(unittest.TestCase):\n",
    "\n",
    "    def test_sum(self):\n",
    "        self.assertEqual(sum([1, 2, 3]), 6, \"Should be 6\")\n",
    "\n",
    "    def test_sum_tuple(self):\n",
    "        self.assertEqual(sum((1, 2, 2)), 6, \"Should be 6\")"
   ]
  },
  {
   "cell_type": "markdown",
   "id": "aa6d874c-fb41-48ae-8c03-ae0402d20345",
   "metadata": {},
   "source": [
    "However, because of our chosen testrunner, PyTest, we can bypass this requirement. So we don't have to use classes, but we can. They are important to know about as you start working with more complex computer systems.\n",
    "\n",
    "### Using PyTest\n",
    "\n",
    "Using pytest is actually really simple. All you have to do is create a new python file that either starts with \"test_\" or ends with \"_test\". Any function you put in there will be detected by the testrunner. The best way for you to learn to use testing is through actual practice, so lets get started. "
   ]
  },
  {
   "cell_type": "markdown",
   "id": "a9d47212-90b1-43c1-a231-95c45fa9e8db",
   "metadata": {},
   "source": [
    "# [Fizzbuzz Unit Testing](https://docs.google.com/document/d/1_kSKQrc2pZLD5MwZb2agPvFBKiwK6JyFbKKSTwYH71Q/edit?usp=sharing)"
   ]
  }
 ],
 "metadata": {
  "kernelspec": {
   "display_name": "Python 3 (ipykernel)",
   "language": "python",
   "name": "python3"
  },
  "language_info": {
   "codemirror_mode": {
    "name": "ipython",
    "version": 3
   },
   "file_extension": ".py",
   "mimetype": "text/x-python",
   "name": "python",
   "nbconvert_exporter": "python",
   "pygments_lexer": "ipython3",
   "version": "3.9.6"
  }
 },
 "nbformat": 4,
 "nbformat_minor": 5
}
